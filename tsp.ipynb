{
 "cells": [
  {
   "cell_type": "code",
   "execution_count": 437,
   "metadata": {},
   "outputs": [],
   "source": [
    "import logging\n",
    "from itertools import combinations\n",
    "import pandas as pd\n",
    "import numpy as np\n",
    "from geopy.distance import geodesic\n",
    "import networkx as nx\n",
    "import random\n",
    "from tqdm.auto import tqdm\n",
    "from matplotlib import pyplot as plt\n",
    "from itertools import accumulate\n",
    "from icecream import ic\n",
    "\n",
    "logging.basicConfig(level=logging.DEBUG)"
   ]
  },
  {
   "cell_type": "code",
   "execution_count": 438,
   "metadata": {},
   "outputs": [
    {
     "data": {
      "text/html": [
       "<div>\n",
       "<style scoped>\n",
       "    .dataframe tbody tr th:only-of-type {\n",
       "        vertical-align: middle;\n",
       "    }\n",
       "\n",
       "    .dataframe tbody tr th {\n",
       "        vertical-align: top;\n",
       "    }\n",
       "\n",
       "    .dataframe thead th {\n",
       "        text-align: right;\n",
       "    }\n",
       "</style>\n",
       "<table border=\"1\" class=\"dataframe\">\n",
       "  <thead>\n",
       "    <tr style=\"text-align: right;\">\n",
       "      <th></th>\n",
       "      <th>name</th>\n",
       "      <th>lat</th>\n",
       "      <th>lon</th>\n",
       "    </tr>\n",
       "  </thead>\n",
       "  <tbody>\n",
       "    <tr>\n",
       "      <th>0</th>\n",
       "      <td>Abakan</td>\n",
       "      <td>53.72</td>\n",
       "      <td>91.43</td>\n",
       "    </tr>\n",
       "    <tr>\n",
       "      <th>1</th>\n",
       "      <td>Achinsk</td>\n",
       "      <td>56.28</td>\n",
       "      <td>90.50</td>\n",
       "    </tr>\n",
       "    <tr>\n",
       "      <th>2</th>\n",
       "      <td>Almetyevsk</td>\n",
       "      <td>54.90</td>\n",
       "      <td>52.31</td>\n",
       "    </tr>\n",
       "    <tr>\n",
       "      <th>3</th>\n",
       "      <td>Angarsk</td>\n",
       "      <td>52.57</td>\n",
       "      <td>103.91</td>\n",
       "    </tr>\n",
       "    <tr>\n",
       "      <th>4</th>\n",
       "      <td>Arkhangelsk</td>\n",
       "      <td>64.57</td>\n",
       "      <td>40.53</td>\n",
       "    </tr>\n",
       "  </tbody>\n",
       "</table>\n",
       "</div>"
      ],
      "text/plain": [
       "          name    lat     lon\n",
       "0       Abakan  53.72   91.43\n",
       "1      Achinsk  56.28   90.50\n",
       "2   Almetyevsk  54.90   52.31\n",
       "3      Angarsk  52.57  103.91\n",
       "4  Arkhangelsk  64.57   40.53"
      ]
     },
     "execution_count": 438,
     "metadata": {},
     "output_type": "execute_result"
    }
   ],
   "source": [
    "CITIES = pd.read_csv('cities/russia.csv', header=None, names=['name', 'lat', 'lon'])\n",
    "DIST_MATRIX = np.zeros((len(CITIES), len(CITIES)))\n",
    "for c1, c2 in combinations(CITIES.itertuples(), 2):\n",
    "    DIST_MATRIX[c1.Index, c2.Index] = DIST_MATRIX[c2.Index, c1.Index] = geodesic(\n",
    "        (c1.lat, c1.lon), (c2.lat, c2.lon)\n",
    "    ).km\n",
    "CITIES.head()"
   ]
  },
  {
   "cell_type": "code",
   "execution_count": 439,
   "metadata": {},
   "outputs": [],
   "source": [
    "#cities : list of city names\n",
    "#city_indices : list of (city: index)\n",
    "cities = CITIES['name'].values.tolist()\n",
    "city_indices = {city: index for index, city in enumerate(cities)}\n",
    "#city_indices['Bari']"
   ]
  },
  {
   "cell_type": "code",
   "execution_count": 440,
   "metadata": {},
   "outputs": [],
   "source": [
    "#returns for a route the cost \n",
    "def cost(route):\n",
    "    route.append(route[0])\n",
    "    #assert set(route) == set(range(len(CITIES)))\n",
    "    cost = 0\n",
    "    for c1, c2 in zip(route, route[1:]):\n",
    "        cost += DIST_MATRIX[city_indices[c1], city_indices[c2]]\n",
    "        #print(city_indices[c1], c1, city_indices[c2], c2, DIST_MATRIX[city_indices[c1], city_indices[c2]])\n",
    "    route.pop()\n",
    "    return cost\n",
    "\n",
    "def fitness(route):\n",
    "    return -cost(route)\n",
    "\n",
    "  "
   ]
  },
  {
   "cell_type": "code",
   "execution_count": 441,
   "metadata": {},
   "outputs": [],
   "source": [
    "def greedy_route():\n",
    "    current_city = random.choice(cities)\n",
    "    route = [current_city]\n",
    "    not_visited = set(cities) - {current_city}\n",
    "    \n",
    "    while not_visited:\n",
    "        closest = min(not_visited, key=lambda city: DIST_MATRIX[city_indices[current_city], city_indices[city]])\n",
    "        route.append(closest)\n",
    "        not_visited.remove(closest)\n",
    "        current_city = closest\n",
    "        \n",
    "    return route\n",
    "\n",
    "def initial_population(size):\n",
    "    population = [greedy_route() for i in range(size)]\n",
    "    return population\n"
   ]
  },
  {
   "cell_type": "code",
   "execution_count": null,
   "metadata": {},
   "outputs": [],
   "source": [
    "#returns a random population of routes, leads to a worse result\n",
    "def initial_population2(size):\n",
    "    population = set()\n",
    "    while len(population) < size:\n",
    "        route = tuple(random.sample(CITIES['name'].values.tolist(), len(CITIES)))\n",
    "        population.add(route)\n",
    "\n",
    "    # Convert each route back to a list\n",
    "    return [list(route) for route in population]"
   ]
  },
  {
   "cell_type": "code",
   "execution_count": 442,
   "metadata": {},
   "outputs": [
    {
     "name": "stdout",
     "output_type": "stream",
     "text": [
      "[['Arkhangelsk', 'Severodvinsk', 'Petrozavodsk', 'Saint Petersburg', 'Kolpino', 'Velikiy Novgorod', 'Pskov', 'Velikie Luki', 'Smolensk', 'Bryansk', 'Oryol', 'Kursk', 'Staryy Oskol', 'Voronezh', 'Lipetsk', 'Yelets', 'Novomoskovsk', 'Tula', 'Serpukhov', 'Obninsk', 'Kaluga', 'Podolsk', 'Odintsovo', 'Moscow', 'Mytishchi', 'Korolyov', 'Shchyolkovo', 'Balashikha', 'Zheleznodorozhnyy', 'Lyubertsy', 'Zhukovskiy', 'Elektrostal', 'Noginsk', 'Orekhovo‐Zuevo', 'Sergiyev Posad', 'Khimki', 'Zelenograd', 'Tver', 'Rybinsk', 'Yaroslavl', 'Kostroma', 'Ivanovo', 'Kovrov', 'Vladimir', 'Murom', 'Arzamas', 'Dzerzhinsk', 'Nizhny Novgorod', 'Cheboksary', 'Novocheboksarsk', 'Yoshkar‐Ola', 'Kazan', 'Ulyanovsk', 'Dimitrovgrad', 'Tolyatti', 'Novokuybyshevsk', 'Samara', 'Syzran', 'Balakovo', 'Engels', 'Saratov', 'Kamyshin', 'Volzhskiy', 'Volgograd', 'Volgodonsk', 'Shakhty', 'Novoshakhtinsk', 'Novocherkassk', 'Rostov‐na‐Donu', 'Bataysk', 'Taganrog', 'Krasnodar', 'Maykop', 'Armavir', 'Stavropol', 'Nevinnomyssk', 'Cherkessk', 'Kislovodsk', 'Pyatigorsk', 'Nalchik', 'Vladikavkaz', 'Nazran', 'Groznyy', 'Khasavyurt', 'Makhachkala', 'Kaspiysk', 'Derbent', 'Astrakhan', 'Elista', 'Sochi', 'Novorossiysk', 'Belgorod', 'Tambov', 'Ryazan', 'Kolomna', 'Saransk', 'Penza', 'Almetyevsk', 'Naberezhnye Chelny', 'Nizhnekamsk', 'Izhevsk', 'Neftekamsk', 'Ufa', 'Sterlitamak', 'Salavat', 'Orenberg', 'Orenburg', 'Novotroitsk', 'Orsk', 'Magnitogorsk', 'Miass', 'Zlatoust', 'Chelyabinsk', 'Kopeysk', 'Kamensk‐Uralskiy', 'Yekaterinburg', 'Pervouralsk', 'Nizhniy Tagil', 'Perm', 'Berezniki', 'Syktyvkar', 'Kirov', 'Oktyabrskiy', 'Kurgan', 'Tyumen', 'Tobolsk', 'Nefteyugansk', 'Surgut', 'Nizhnevartovsk', 'Noyabrsk', 'Novyy Urengoy', 'Norilsk', 'Seversk', 'Tomsk', 'Kemerovo', 'Leninsk‐Kuznetskiy', 'Prokopyevsk', 'Novokuznetsk', 'Biysk', 'Barnaul', 'Novosibirsk', 'Rubtsovsk', 'Omsk', 'Achinsk', 'Krasnoyarsk', 'Abakan', 'Kyzyl', 'Angarsk', 'Irkutsk', 'Ulan‐Ude', 'Chita', 'Bratsk', 'Yakutsk', 'Magadan', 'Petropavlovsk‐Kamchatskiy', 'Yuzhno‐Sakhalinsk', 'Komsomolsk‐na‐Amure', 'Khabarovsk', 'Ussuriysk', 'Artyom', 'Vladivostok', 'Nakhodka', 'Blagoveshchensk', 'Murmansk', 'Cherepovets', 'Vologda', 'Kaliningrad'], ['Ulan‐Ude', 'Irkutsk', 'Angarsk', 'Bratsk', 'Krasnoyarsk', 'Achinsk', 'Abakan', 'Novokuznetsk', 'Prokopyevsk', 'Leninsk‐Kuznetskiy', 'Kemerovo', 'Tomsk', 'Seversk', 'Novosibirsk', 'Barnaul', 'Biysk', 'Rubtsovsk', 'Omsk', 'Tobolsk', 'Tyumen', 'Kurgan', 'Kopeysk', 'Chelyabinsk', 'Miass', 'Zlatoust', 'Pervouralsk', 'Yekaterinburg', 'Kamensk‐Uralskiy', 'Nizhniy Tagil', 'Perm', 'Berezniki', 'Izhevsk', 'Neftekamsk', 'Naberezhnye Chelny', 'Nizhnekamsk', 'Almetyevsk', 'Oktyabrskiy', 'Ufa', 'Sterlitamak', 'Salavat', 'Orenberg', 'Orenburg', 'Novotroitsk', 'Orsk', 'Magnitogorsk', 'Samara', 'Novokuybyshevsk', 'Tolyatti', 'Syzran', 'Ulyanovsk', 'Dimitrovgrad', 'Kazan', 'Novocheboksarsk', 'Cheboksary', 'Yoshkar‐Ola', 'Nizhny Novgorod', 'Dzerzhinsk', 'Arzamas', 'Murom', 'Kovrov', 'Vladimir', 'Orekhovo‐Zuevo', 'Noginsk', 'Elektrostal', 'Zheleznodorozhnyy', 'Balashikha', 'Shchyolkovo', 'Korolyov', 'Mytishchi', 'Khimki', 'Zelenograd', 'Moscow', 'Lyubertsy', 'Zhukovskiy', 'Podolsk', 'Odintsovo', 'Obninsk', 'Serpukhov', 'Tula', 'Novomoskovsk', 'Ryazan', 'Kolomna', 'Sergiyev Posad', 'Tver', 'Rybinsk', 'Yaroslavl', 'Kostroma', 'Ivanovo', 'Vologda', 'Cherepovets', 'Petrozavodsk', 'Saint Petersburg', 'Kolpino', 'Velikiy Novgorod', 'Pskov', 'Velikie Luki', 'Smolensk', 'Bryansk', 'Oryol', 'Kursk', 'Staryy Oskol', 'Voronezh', 'Lipetsk', 'Yelets', 'Tambov', 'Penza', 'Saransk', 'Balakovo', 'Engels', 'Saratov', 'Kamyshin', 'Volzhskiy', 'Volgograd', 'Volgodonsk', 'Shakhty', 'Novoshakhtinsk', 'Novocherkassk', 'Rostov‐na‐Donu', 'Bataysk', 'Taganrog', 'Krasnodar', 'Maykop', 'Armavir', 'Stavropol', 'Nevinnomyssk', 'Cherkessk', 'Kislovodsk', 'Pyatigorsk', 'Nalchik', 'Vladikavkaz', 'Nazran', 'Groznyy', 'Khasavyurt', 'Makhachkala', 'Kaspiysk', 'Derbent', 'Astrakhan', 'Elista', 'Sochi', 'Novorossiysk', 'Belgorod', 'Kaluga', 'Kirov', 'Syktyvkar', 'Arkhangelsk', 'Severodvinsk', 'Murmansk', 'Kaliningrad', 'Nefteyugansk', 'Surgut', 'Nizhnevartovsk', 'Noyabrsk', 'Novyy Urengoy', 'Norilsk', 'Kyzyl', 'Chita', 'Blagoveshchensk', 'Khabarovsk', 'Komsomolsk‐na‐Amure', 'Yuzhno‐Sakhalinsk', 'Nakhodka', 'Artyom', 'Vladivostok', 'Ussuriysk', 'Yakutsk', 'Magadan', 'Petropavlovsk‐Kamchatskiy'], ['Tomsk', 'Seversk', 'Kemerovo', 'Leninsk‐Kuznetskiy', 'Prokopyevsk', 'Novokuznetsk', 'Biysk', 'Barnaul', 'Novosibirsk', 'Rubtsovsk', 'Omsk', 'Tobolsk', 'Tyumen', 'Kurgan', 'Kopeysk', 'Chelyabinsk', 'Miass', 'Zlatoust', 'Pervouralsk', 'Yekaterinburg', 'Kamensk‐Uralskiy', 'Nizhniy Tagil', 'Perm', 'Berezniki', 'Izhevsk', 'Neftekamsk', 'Naberezhnye Chelny', 'Nizhnekamsk', 'Almetyevsk', 'Oktyabrskiy', 'Ufa', 'Sterlitamak', 'Salavat', 'Orenberg', 'Orenburg', 'Novotroitsk', 'Orsk', 'Magnitogorsk', 'Samara', 'Novokuybyshevsk', 'Tolyatti', 'Syzran', 'Ulyanovsk', 'Dimitrovgrad', 'Kazan', 'Novocheboksarsk', 'Cheboksary', 'Yoshkar‐Ola', 'Nizhny Novgorod', 'Dzerzhinsk', 'Arzamas', 'Murom', 'Kovrov', 'Vladimir', 'Orekhovo‐Zuevo', 'Noginsk', 'Elektrostal', 'Zheleznodorozhnyy', 'Balashikha', 'Shchyolkovo', 'Korolyov', 'Mytishchi', 'Khimki', 'Zelenograd', 'Moscow', 'Lyubertsy', 'Zhukovskiy', 'Podolsk', 'Odintsovo', 'Obninsk', 'Serpukhov', 'Tula', 'Novomoskovsk', 'Ryazan', 'Kolomna', 'Sergiyev Posad', 'Tver', 'Rybinsk', 'Yaroslavl', 'Kostroma', 'Ivanovo', 'Vologda', 'Cherepovets', 'Petrozavodsk', 'Saint Petersburg', 'Kolpino', 'Velikiy Novgorod', 'Pskov', 'Velikie Luki', 'Smolensk', 'Bryansk', 'Oryol', 'Kursk', 'Staryy Oskol', 'Voronezh', 'Lipetsk', 'Yelets', 'Tambov', 'Penza', 'Saransk', 'Balakovo', 'Engels', 'Saratov', 'Kamyshin', 'Volzhskiy', 'Volgograd', 'Volgodonsk', 'Shakhty', 'Novoshakhtinsk', 'Novocherkassk', 'Rostov‐na‐Donu', 'Bataysk', 'Taganrog', 'Krasnodar', 'Maykop', 'Armavir', 'Stavropol', 'Nevinnomyssk', 'Cherkessk', 'Kislovodsk', 'Pyatigorsk', 'Nalchik', 'Vladikavkaz', 'Nazran', 'Groznyy', 'Khasavyurt', 'Makhachkala', 'Kaspiysk', 'Derbent', 'Astrakhan', 'Elista', 'Sochi', 'Novorossiysk', 'Belgorod', 'Kaluga', 'Kirov', 'Syktyvkar', 'Arkhangelsk', 'Severodvinsk', 'Murmansk', 'Kaliningrad', 'Nefteyugansk', 'Surgut', 'Nizhnevartovsk', 'Noyabrsk', 'Novyy Urengoy', 'Norilsk', 'Achinsk', 'Krasnoyarsk', 'Abakan', 'Kyzyl', 'Angarsk', 'Irkutsk', 'Ulan‐Ude', 'Chita', 'Bratsk', 'Yakutsk', 'Magadan', 'Petropavlovsk‐Kamchatskiy', 'Yuzhno‐Sakhalinsk', 'Komsomolsk‐na‐Amure', 'Khabarovsk', 'Ussuriysk', 'Artyom', 'Vladivostok', 'Nakhodka', 'Blagoveshchensk'], ['Kaliningrad', 'Pskov', 'Velikiy Novgorod', 'Kolpino', 'Saint Petersburg', 'Petrozavodsk', 'Cherepovets', 'Vologda', 'Rybinsk', 'Yaroslavl', 'Kostroma', 'Ivanovo', 'Kovrov', 'Vladimir', 'Orekhovo‐Zuevo', 'Noginsk', 'Elektrostal', 'Zheleznodorozhnyy', 'Balashikha', 'Shchyolkovo', 'Korolyov', 'Mytishchi', 'Khimki', 'Zelenograd', 'Moscow', 'Lyubertsy', 'Zhukovskiy', 'Podolsk', 'Odintsovo', 'Obninsk', 'Serpukhov', 'Tula', 'Novomoskovsk', 'Ryazan', 'Kolomna', 'Sergiyev Posad', 'Tver', 'Kaluga', 'Oryol', 'Bryansk', 'Kursk', 'Staryy Oskol', 'Voronezh', 'Lipetsk', 'Yelets', 'Tambov', 'Penza', 'Saransk', 'Arzamas', 'Dzerzhinsk', 'Nizhny Novgorod', 'Murom', 'Cheboksary', 'Novocheboksarsk', 'Yoshkar‐Ola', 'Kazan', 'Ulyanovsk', 'Dimitrovgrad', 'Tolyatti', 'Novokuybyshevsk', 'Samara', 'Syzran', 'Balakovo', 'Engels', 'Saratov', 'Kamyshin', 'Volzhskiy', 'Volgograd', 'Volgodonsk', 'Shakhty', 'Novoshakhtinsk', 'Novocherkassk', 'Rostov‐na‐Donu', 'Bataysk', 'Taganrog', 'Krasnodar', 'Maykop', 'Armavir', 'Stavropol', 'Nevinnomyssk', 'Cherkessk', 'Kislovodsk', 'Pyatigorsk', 'Nalchik', 'Vladikavkaz', 'Nazran', 'Groznyy', 'Khasavyurt', 'Makhachkala', 'Kaspiysk', 'Derbent', 'Astrakhan', 'Elista', 'Sochi', 'Novorossiysk', 'Belgorod', 'Smolensk', 'Velikie Luki', 'Severodvinsk', 'Arkhangelsk', 'Murmansk', 'Syktyvkar', 'Kirov', 'Izhevsk', 'Neftekamsk', 'Naberezhnye Chelny', 'Nizhnekamsk', 'Almetyevsk', 'Oktyabrskiy', 'Ufa', 'Sterlitamak', 'Salavat', 'Orenberg', 'Orenburg', 'Novotroitsk', 'Orsk', 'Magnitogorsk', 'Miass', 'Zlatoust', 'Chelyabinsk', 'Kopeysk', 'Kamensk‐Uralskiy', 'Yekaterinburg', 'Pervouralsk', 'Nizhniy Tagil', 'Perm', 'Berezniki', 'Tyumen', 'Kurgan', 'Tobolsk', 'Nefteyugansk', 'Surgut', 'Nizhnevartovsk', 'Noyabrsk', 'Novyy Urengoy', 'Norilsk', 'Seversk', 'Tomsk', 'Kemerovo', 'Leninsk‐Kuznetskiy', 'Prokopyevsk', 'Novokuznetsk', 'Biysk', 'Barnaul', 'Novosibirsk', 'Rubtsovsk', 'Omsk', 'Achinsk', 'Krasnoyarsk', 'Abakan', 'Kyzyl', 'Angarsk', 'Irkutsk', 'Ulan‐Ude', 'Chita', 'Bratsk', 'Yakutsk', 'Magadan', 'Petropavlovsk‐Kamchatskiy', 'Yuzhno‐Sakhalinsk', 'Komsomolsk‐na‐Amure', 'Khabarovsk', 'Ussuriysk', 'Artyom', 'Vladivostok', 'Nakhodka', 'Blagoveshchensk'], ['Kemerovo', 'Leninsk‐Kuznetskiy', 'Prokopyevsk', 'Novokuznetsk', 'Biysk', 'Barnaul', 'Novosibirsk', 'Tomsk', 'Seversk', 'Achinsk', 'Krasnoyarsk', 'Abakan', 'Kyzyl', 'Angarsk', 'Irkutsk', 'Ulan‐Ude', 'Chita', 'Bratsk', 'Rubtsovsk', 'Omsk', 'Tobolsk', 'Tyumen', 'Kurgan', 'Kopeysk', 'Chelyabinsk', 'Miass', 'Zlatoust', 'Pervouralsk', 'Yekaterinburg', 'Kamensk‐Uralskiy', 'Nizhniy Tagil', 'Perm', 'Berezniki', 'Izhevsk', 'Neftekamsk', 'Naberezhnye Chelny', 'Nizhnekamsk', 'Almetyevsk', 'Oktyabrskiy', 'Ufa', 'Sterlitamak', 'Salavat', 'Orenberg', 'Orenburg', 'Novotroitsk', 'Orsk', 'Magnitogorsk', 'Samara', 'Novokuybyshevsk', 'Tolyatti', 'Syzran', 'Ulyanovsk', 'Dimitrovgrad', 'Kazan', 'Novocheboksarsk', 'Cheboksary', 'Yoshkar‐Ola', 'Nizhny Novgorod', 'Dzerzhinsk', 'Arzamas', 'Murom', 'Kovrov', 'Vladimir', 'Orekhovo‐Zuevo', 'Noginsk', 'Elektrostal', 'Zheleznodorozhnyy', 'Balashikha', 'Shchyolkovo', 'Korolyov', 'Mytishchi', 'Khimki', 'Zelenograd', 'Moscow', 'Lyubertsy', 'Zhukovskiy', 'Podolsk', 'Odintsovo', 'Obninsk', 'Serpukhov', 'Tula', 'Novomoskovsk', 'Ryazan', 'Kolomna', 'Sergiyev Posad', 'Tver', 'Rybinsk', 'Yaroslavl', 'Kostroma', 'Ivanovo', 'Vologda', 'Cherepovets', 'Petrozavodsk', 'Saint Petersburg', 'Kolpino', 'Velikiy Novgorod', 'Pskov', 'Velikie Luki', 'Smolensk', 'Bryansk', 'Oryol', 'Kursk', 'Staryy Oskol', 'Voronezh', 'Lipetsk', 'Yelets', 'Tambov', 'Penza', 'Saransk', 'Balakovo', 'Engels', 'Saratov', 'Kamyshin', 'Volzhskiy', 'Volgograd', 'Volgodonsk', 'Shakhty', 'Novoshakhtinsk', 'Novocherkassk', 'Rostov‐na‐Donu', 'Bataysk', 'Taganrog', 'Krasnodar', 'Maykop', 'Armavir', 'Stavropol', 'Nevinnomyssk', 'Cherkessk', 'Kislovodsk', 'Pyatigorsk', 'Nalchik', 'Vladikavkaz', 'Nazran', 'Groznyy', 'Khasavyurt', 'Makhachkala', 'Kaspiysk', 'Derbent', 'Astrakhan', 'Elista', 'Sochi', 'Novorossiysk', 'Belgorod', 'Kaluga', 'Kirov', 'Syktyvkar', 'Arkhangelsk', 'Severodvinsk', 'Murmansk', 'Kaliningrad', 'Nefteyugansk', 'Surgut', 'Nizhnevartovsk', 'Noyabrsk', 'Novyy Urengoy', 'Norilsk', 'Yakutsk', 'Magadan', 'Petropavlovsk‐Kamchatskiy', 'Yuzhno‐Sakhalinsk', 'Komsomolsk‐na‐Amure', 'Khabarovsk', 'Ussuriysk', 'Artyom', 'Vladivostok', 'Nakhodka', 'Blagoveshchensk'], ['Kislovodsk', 'Pyatigorsk', 'Nalchik', 'Vladikavkaz', 'Nazran', 'Groznyy', 'Khasavyurt', 'Makhachkala', 'Kaspiysk', 'Derbent', 'Astrakhan', 'Elista', 'Volgodonsk', 'Shakhty', 'Novoshakhtinsk', 'Novocherkassk', 'Rostov‐na‐Donu', 'Bataysk', 'Taganrog', 'Krasnodar', 'Maykop', 'Armavir', 'Stavropol', 'Nevinnomyssk', 'Cherkessk', 'Sochi', 'Novorossiysk', 'Belgorod', 'Staryy Oskol', 'Voronezh', 'Lipetsk', 'Yelets', 'Novomoskovsk', 'Tula', 'Serpukhov', 'Obninsk', 'Kaluga', 'Podolsk', 'Odintsovo', 'Moscow', 'Mytishchi', 'Korolyov', 'Shchyolkovo', 'Balashikha', 'Zheleznodorozhnyy', 'Lyubertsy', 'Zhukovskiy', 'Elektrostal', 'Noginsk', 'Orekhovo‐Zuevo', 'Sergiyev Posad', 'Khimki', 'Zelenograd', 'Tver', 'Rybinsk', 'Yaroslavl', 'Kostroma', 'Ivanovo', 'Kovrov', 'Vladimir', 'Murom', 'Arzamas', 'Dzerzhinsk', 'Nizhny Novgorod', 'Cheboksary', 'Novocheboksarsk', 'Yoshkar‐Ola', 'Kazan', 'Ulyanovsk', 'Dimitrovgrad', 'Tolyatti', 'Novokuybyshevsk', 'Samara', 'Syzran', 'Balakovo', 'Engels', 'Saratov', 'Kamyshin', 'Volzhskiy', 'Volgograd', 'Tambov', 'Ryazan', 'Kolomna', 'Oryol', 'Bryansk', 'Kursk', 'Smolensk', 'Velikie Luki', 'Pskov', 'Velikiy Novgorod', 'Kolpino', 'Saint Petersburg', 'Petrozavodsk', 'Cherepovets', 'Vologda', 'Kirov', 'Izhevsk', 'Neftekamsk', 'Naberezhnye Chelny', 'Nizhnekamsk', 'Almetyevsk', 'Oktyabrskiy', 'Ufa', 'Sterlitamak', 'Salavat', 'Orenberg', 'Orenburg', 'Novotroitsk', 'Orsk', 'Magnitogorsk', 'Miass', 'Zlatoust', 'Chelyabinsk', 'Kopeysk', 'Kamensk‐Uralskiy', 'Yekaterinburg', 'Pervouralsk', 'Nizhniy Tagil', 'Perm', 'Berezniki', 'Syktyvkar', 'Arkhangelsk', 'Severodvinsk', 'Murmansk', 'Kaliningrad', 'Saransk', 'Penza', 'Kurgan', 'Tyumen', 'Tobolsk', 'Nefteyugansk', 'Surgut', 'Nizhnevartovsk', 'Noyabrsk', 'Novyy Urengoy', 'Norilsk', 'Seversk', 'Tomsk', 'Kemerovo', 'Leninsk‐Kuznetskiy', 'Prokopyevsk', 'Novokuznetsk', 'Biysk', 'Barnaul', 'Novosibirsk', 'Rubtsovsk', 'Omsk', 'Achinsk', 'Krasnoyarsk', 'Abakan', 'Kyzyl', 'Angarsk', 'Irkutsk', 'Ulan‐Ude', 'Chita', 'Bratsk', 'Yakutsk', 'Magadan', 'Petropavlovsk‐Kamchatskiy', 'Yuzhno‐Sakhalinsk', 'Komsomolsk‐na‐Amure', 'Khabarovsk', 'Ussuriysk', 'Artyom', 'Vladivostok', 'Nakhodka', 'Blagoveshchensk'], ['Saratov', 'Engels', 'Balakovo', 'Syzran', 'Tolyatti', 'Novokuybyshevsk', 'Samara', 'Dimitrovgrad', 'Ulyanovsk', 'Kazan', 'Novocheboksarsk', 'Cheboksary', 'Yoshkar‐Ola', 'Nizhny Novgorod', 'Dzerzhinsk', 'Arzamas', 'Murom', 'Kovrov', 'Vladimir', 'Orekhovo‐Zuevo', 'Noginsk', 'Elektrostal', 'Zheleznodorozhnyy', 'Balashikha', 'Shchyolkovo', 'Korolyov', 'Mytishchi', 'Khimki', 'Zelenograd', 'Moscow', 'Lyubertsy', 'Zhukovskiy', 'Podolsk', 'Odintsovo', 'Obninsk', 'Serpukhov', 'Tula', 'Novomoskovsk', 'Ryazan', 'Kolomna', 'Sergiyev Posad', 'Tver', 'Rybinsk', 'Yaroslavl', 'Kostroma', 'Ivanovo', 'Vologda', 'Cherepovets', 'Petrozavodsk', 'Saint Petersburg', 'Kolpino', 'Velikiy Novgorod', 'Pskov', 'Velikie Luki', 'Smolensk', 'Bryansk', 'Oryol', 'Kursk', 'Staryy Oskol', 'Voronezh', 'Lipetsk', 'Yelets', 'Tambov', 'Penza', 'Saransk', 'Kamyshin', 'Volzhskiy', 'Volgograd', 'Volgodonsk', 'Shakhty', 'Novoshakhtinsk', 'Novocherkassk', 'Rostov‐na‐Donu', 'Bataysk', 'Taganrog', 'Krasnodar', 'Maykop', 'Armavir', 'Stavropol', 'Nevinnomyssk', 'Cherkessk', 'Kislovodsk', 'Pyatigorsk', 'Nalchik', 'Vladikavkaz', 'Nazran', 'Groznyy', 'Khasavyurt', 'Makhachkala', 'Kaspiysk', 'Derbent', 'Astrakhan', 'Elista', 'Sochi', 'Novorossiysk', 'Belgorod', 'Kaluga', 'Kirov', 'Izhevsk', 'Neftekamsk', 'Naberezhnye Chelny', 'Nizhnekamsk', 'Almetyevsk', 'Oktyabrskiy', 'Ufa', 'Sterlitamak', 'Salavat', 'Orenberg', 'Orenburg', 'Novotroitsk', 'Orsk', 'Magnitogorsk', 'Miass', 'Zlatoust', 'Chelyabinsk', 'Kopeysk', 'Kamensk‐Uralskiy', 'Yekaterinburg', 'Pervouralsk', 'Nizhniy Tagil', 'Perm', 'Berezniki', 'Syktyvkar', 'Arkhangelsk', 'Severodvinsk', 'Murmansk', 'Kaliningrad', 'Tyumen', 'Kurgan', 'Tobolsk', 'Nefteyugansk', 'Surgut', 'Nizhnevartovsk', 'Noyabrsk', 'Novyy Urengoy', 'Norilsk', 'Seversk', 'Tomsk', 'Kemerovo', 'Leninsk‐Kuznetskiy', 'Prokopyevsk', 'Novokuznetsk', 'Biysk', 'Barnaul', 'Novosibirsk', 'Rubtsovsk', 'Omsk', 'Achinsk', 'Krasnoyarsk', 'Abakan', 'Kyzyl', 'Angarsk', 'Irkutsk', 'Ulan‐Ude', 'Chita', 'Bratsk', 'Yakutsk', 'Magadan', 'Petropavlovsk‐Kamchatskiy', 'Yuzhno‐Sakhalinsk', 'Komsomolsk‐na‐Amure', 'Khabarovsk', 'Ussuriysk', 'Artyom', 'Vladivostok', 'Nakhodka', 'Blagoveshchensk'], ['Noginsk', 'Elektrostal', 'Zheleznodorozhnyy', 'Balashikha', 'Shchyolkovo', 'Korolyov', 'Mytishchi', 'Khimki', 'Zelenograd', 'Moscow', 'Lyubertsy', 'Zhukovskiy', 'Podolsk', 'Odintsovo', 'Obninsk', 'Serpukhov', 'Tula', 'Novomoskovsk', 'Ryazan', 'Kolomna', 'Orekhovo‐Zuevo', 'Sergiyev Posad', 'Vladimir', 'Kovrov', 'Ivanovo', 'Kostroma', 'Yaroslavl', 'Rybinsk', 'Cherepovets', 'Vologda', 'Tver', 'Kaluga', 'Oryol', 'Bryansk', 'Kursk', 'Staryy Oskol', 'Voronezh', 'Lipetsk', 'Yelets', 'Tambov', 'Penza', 'Saransk', 'Arzamas', 'Dzerzhinsk', 'Nizhny Novgorod', 'Murom', 'Cheboksary', 'Novocheboksarsk', 'Yoshkar‐Ola', 'Kazan', 'Ulyanovsk', 'Dimitrovgrad', 'Tolyatti', 'Novokuybyshevsk', 'Samara', 'Syzran', 'Balakovo', 'Engels', 'Saratov', 'Kamyshin', 'Volzhskiy', 'Volgograd', 'Volgodonsk', 'Shakhty', 'Novoshakhtinsk', 'Novocherkassk', 'Rostov‐na‐Donu', 'Bataysk', 'Taganrog', 'Krasnodar', 'Maykop', 'Armavir', 'Stavropol', 'Nevinnomyssk', 'Cherkessk', 'Kislovodsk', 'Pyatigorsk', 'Nalchik', 'Vladikavkaz', 'Nazran', 'Groznyy', 'Khasavyurt', 'Makhachkala', 'Kaspiysk', 'Derbent', 'Astrakhan', 'Elista', 'Sochi', 'Novorossiysk', 'Belgorod', 'Smolensk', 'Velikie Luki', 'Pskov', 'Velikiy Novgorod', 'Kolpino', 'Saint Petersburg', 'Petrozavodsk', 'Severodvinsk', 'Arkhangelsk', 'Murmansk', 'Syktyvkar', 'Kirov', 'Izhevsk', 'Neftekamsk', 'Naberezhnye Chelny', 'Nizhnekamsk', 'Almetyevsk', 'Oktyabrskiy', 'Ufa', 'Sterlitamak', 'Salavat', 'Orenberg', 'Orenburg', 'Novotroitsk', 'Orsk', 'Magnitogorsk', 'Miass', 'Zlatoust', 'Chelyabinsk', 'Kopeysk', 'Kamensk‐Uralskiy', 'Yekaterinburg', 'Pervouralsk', 'Nizhniy Tagil', 'Perm', 'Berezniki', 'Tyumen', 'Kurgan', 'Tobolsk', 'Nefteyugansk', 'Surgut', 'Nizhnevartovsk', 'Noyabrsk', 'Novyy Urengoy', 'Norilsk', 'Seversk', 'Tomsk', 'Kemerovo', 'Leninsk‐Kuznetskiy', 'Prokopyevsk', 'Novokuznetsk', 'Biysk', 'Barnaul', 'Novosibirsk', 'Rubtsovsk', 'Omsk', 'Achinsk', 'Krasnoyarsk', 'Abakan', 'Kyzyl', 'Angarsk', 'Irkutsk', 'Ulan‐Ude', 'Chita', 'Bratsk', 'Yakutsk', 'Magadan', 'Petropavlovsk‐Kamchatskiy', 'Yuzhno‐Sakhalinsk', 'Komsomolsk‐na‐Amure', 'Khabarovsk', 'Ussuriysk', 'Artyom', 'Vladivostok', 'Nakhodka', 'Blagoveshchensk', 'Kaliningrad'], ['Tula', 'Novomoskovsk', 'Serpukhov', 'Obninsk', 'Kaluga', 'Podolsk', 'Odintsovo', 'Moscow', 'Mytishchi', 'Korolyov', 'Shchyolkovo', 'Balashikha', 'Zheleznodorozhnyy', 'Lyubertsy', 'Zhukovskiy', 'Elektrostal', 'Noginsk', 'Orekhovo‐Zuevo', 'Sergiyev Posad', 'Khimki', 'Zelenograd', 'Tver', 'Rybinsk', 'Yaroslavl', 'Kostroma', 'Ivanovo', 'Kovrov', 'Vladimir', 'Murom', 'Arzamas', 'Dzerzhinsk', 'Nizhny Novgorod', 'Cheboksary', 'Novocheboksarsk', 'Yoshkar‐Ola', 'Kazan', 'Ulyanovsk', 'Dimitrovgrad', 'Tolyatti', 'Novokuybyshevsk', 'Samara', 'Syzran', 'Balakovo', 'Engels', 'Saratov', 'Kamyshin', 'Volzhskiy', 'Volgograd', 'Volgodonsk', 'Shakhty', 'Novoshakhtinsk', 'Novocherkassk', 'Rostov‐na‐Donu', 'Bataysk', 'Taganrog', 'Krasnodar', 'Maykop', 'Armavir', 'Stavropol', 'Nevinnomyssk', 'Cherkessk', 'Kislovodsk', 'Pyatigorsk', 'Nalchik', 'Vladikavkaz', 'Nazran', 'Groznyy', 'Khasavyurt', 'Makhachkala', 'Kaspiysk', 'Derbent', 'Astrakhan', 'Elista', 'Sochi', 'Novorossiysk', 'Belgorod', 'Staryy Oskol', 'Voronezh', 'Lipetsk', 'Yelets', 'Oryol', 'Bryansk', 'Kursk', 'Tambov', 'Ryazan', 'Kolomna', 'Saransk', 'Penza', 'Almetyevsk', 'Naberezhnye Chelny', 'Nizhnekamsk', 'Izhevsk', 'Neftekamsk', 'Ufa', 'Sterlitamak', 'Salavat', 'Orenberg', 'Orenburg', 'Novotroitsk', 'Orsk', 'Magnitogorsk', 'Miass', 'Zlatoust', 'Chelyabinsk', 'Kopeysk', 'Kamensk‐Uralskiy', 'Yekaterinburg', 'Pervouralsk', 'Nizhniy Tagil', 'Perm', 'Berezniki', 'Syktyvkar', 'Kirov', 'Oktyabrskiy', 'Kurgan', 'Tyumen', 'Tobolsk', 'Nefteyugansk', 'Surgut', 'Nizhnevartovsk', 'Noyabrsk', 'Novyy Urengoy', 'Norilsk', 'Seversk', 'Tomsk', 'Kemerovo', 'Leninsk‐Kuznetskiy', 'Prokopyevsk', 'Novokuznetsk', 'Biysk', 'Barnaul', 'Novosibirsk', 'Rubtsovsk', 'Omsk', 'Achinsk', 'Krasnoyarsk', 'Abakan', 'Kyzyl', 'Angarsk', 'Irkutsk', 'Ulan‐Ude', 'Chita', 'Bratsk', 'Yakutsk', 'Magadan', 'Petropavlovsk‐Kamchatskiy', 'Yuzhno‐Sakhalinsk', 'Komsomolsk‐na‐Amure', 'Khabarovsk', 'Ussuriysk', 'Artyom', 'Vladivostok', 'Nakhodka', 'Blagoveshchensk', 'Arkhangelsk', 'Severodvinsk', 'Petrozavodsk', 'Saint Petersburg', 'Kolpino', 'Velikiy Novgorod', 'Pskov', 'Velikie Luki', 'Smolensk', 'Cherepovets', 'Vologda', 'Murmansk', 'Kaliningrad'], ['Vladimir', 'Kovrov', 'Ivanovo', 'Kostroma', 'Yaroslavl', 'Rybinsk', 'Cherepovets', 'Vologda', 'Sergiyev Posad', 'Shchyolkovo', 'Balashikha', 'Zheleznodorozhnyy', 'Lyubertsy', 'Moscow', 'Mytishchi', 'Korolyov', 'Khimki', 'Zelenograd', 'Odintsovo', 'Podolsk', 'Zhukovskiy', 'Elektrostal', 'Noginsk', 'Orekhovo‐Zuevo', 'Kolomna', 'Ryazan', 'Novomoskovsk', 'Tula', 'Serpukhov', 'Obninsk', 'Kaluga', 'Oryol', 'Bryansk', 'Kursk', 'Staryy Oskol', 'Voronezh', 'Lipetsk', 'Yelets', 'Tambov', 'Penza', 'Saransk', 'Arzamas', 'Dzerzhinsk', 'Nizhny Novgorod', 'Murom', 'Cheboksary', 'Novocheboksarsk', 'Yoshkar‐Ola', 'Kazan', 'Ulyanovsk', 'Dimitrovgrad', 'Tolyatti', 'Novokuybyshevsk', 'Samara', 'Syzran', 'Balakovo', 'Engels', 'Saratov', 'Kamyshin', 'Volzhskiy', 'Volgograd', 'Volgodonsk', 'Shakhty', 'Novoshakhtinsk', 'Novocherkassk', 'Rostov‐na‐Donu', 'Bataysk', 'Taganrog', 'Krasnodar', 'Maykop', 'Armavir', 'Stavropol', 'Nevinnomyssk', 'Cherkessk', 'Kislovodsk', 'Pyatigorsk', 'Nalchik', 'Vladikavkaz', 'Nazran', 'Groznyy', 'Khasavyurt', 'Makhachkala', 'Kaspiysk', 'Derbent', 'Astrakhan', 'Elista', 'Sochi', 'Novorossiysk', 'Belgorod', 'Smolensk', 'Velikie Luki', 'Pskov', 'Velikiy Novgorod', 'Kolpino', 'Saint Petersburg', 'Petrozavodsk', 'Severodvinsk', 'Arkhangelsk', 'Murmansk', 'Syktyvkar', 'Kirov', 'Izhevsk', 'Neftekamsk', 'Naberezhnye Chelny', 'Nizhnekamsk', 'Almetyevsk', 'Oktyabrskiy', 'Ufa', 'Sterlitamak', 'Salavat', 'Orenberg', 'Orenburg', 'Novotroitsk', 'Orsk', 'Magnitogorsk', 'Miass', 'Zlatoust', 'Chelyabinsk', 'Kopeysk', 'Kamensk‐Uralskiy', 'Yekaterinburg', 'Pervouralsk', 'Nizhniy Tagil', 'Perm', 'Berezniki', 'Tyumen', 'Kurgan', 'Tobolsk', 'Nefteyugansk', 'Surgut', 'Nizhnevartovsk', 'Noyabrsk', 'Novyy Urengoy', 'Norilsk', 'Seversk', 'Tomsk', 'Kemerovo', 'Leninsk‐Kuznetskiy', 'Prokopyevsk', 'Novokuznetsk', 'Biysk', 'Barnaul', 'Novosibirsk', 'Rubtsovsk', 'Omsk', 'Achinsk', 'Krasnoyarsk', 'Abakan', 'Kyzyl', 'Angarsk', 'Irkutsk', 'Ulan‐Ude', 'Chita', 'Bratsk', 'Yakutsk', 'Magadan', 'Petropavlovsk‐Kamchatskiy', 'Yuzhno‐Sakhalinsk', 'Komsomolsk‐na‐Amure', 'Khabarovsk', 'Ussuriysk', 'Artyom', 'Vladivostok', 'Nakhodka', 'Blagoveshchensk', 'Tver', 'Kaliningrad']]\n",
      "-42548.95605568762\n"
     ]
    }
   ],
   "source": [
    "pop = initial_population(10)\n",
    "print(pop)\n",
    "\n",
    "#for route in pop:\n",
    "    #print(fitness(route))\n",
    "    \n",
    "print(fitness(pop[0]))"
   ]
  },
  {
   "cell_type": "code",
   "execution_count": 444,
   "metadata": {},
   "outputs": [
    {
     "name": "stdout",
     "output_type": "stream",
     "text": [
      "[['Tver', 'Zelenograd', 'Khimki', 'Mytishchi', 'Korolyov', 'Shchyolkovo', 'Balashikha', 'Zheleznodorozhnyy', 'Lyubertsy', 'Moscow', 'Odintsovo', 'Podolsk', 'Zhukovskiy', 'Elektrostal', 'Noginsk', 'Orekhovo‐Zuevo', 'Sergiyev Posad', 'Vladimir', 'Kovrov', 'Ivanovo', 'Kostroma', 'Yaroslavl', 'Rybinsk', 'Cherepovets', 'Vologda', 'Dzerzhinsk', 'Nizhny Novgorod', 'Arzamas', 'Murom', 'Ryazan', 'Kolomna', 'Serpukhov', 'Obninsk', 'Kaluga', 'Tula', 'Novomoskovsk', 'Yelets', 'Lipetsk', 'Voronezh', 'Staryy Oskol', 'Belgorod', 'Kursk', 'Oryol', 'Bryansk', 'Smolensk', 'Velikie Luki', 'Pskov', 'Velikiy Novgorod', 'Kolpino', 'Saint Petersburg', 'Petrozavodsk', 'Severodvinsk', 'Arkhangelsk', 'Murmansk', 'Syktyvkar', 'Kirov', 'Yoshkar‐Ola', 'Novocheboksarsk', 'Cheboksary', 'Kazan', 'Ulyanovsk', 'Dimitrovgrad', 'Tolyatti', 'Novokuybyshevsk', 'Samara', 'Syzran', 'Balakovo', 'Engels', 'Saratov', 'Kamyshin', 'Volzhskiy', 'Volgograd', 'Volgodonsk', 'Shakhty', 'Novoshakhtinsk', 'Novocherkassk', 'Rostov‐na‐Donu', 'Bataysk', 'Taganrog', 'Krasnodar', 'Maykop', 'Armavir', 'Stavropol', 'Nevinnomyssk', 'Cherkessk', 'Kislovodsk', 'Pyatigorsk', 'Nalchik', 'Vladikavkaz', 'Nazran', 'Groznyy', 'Khasavyurt', 'Makhachkala', 'Kaspiysk', 'Derbent', 'Astrakhan', 'Elista', 'Sochi', 'Novorossiysk', 'Tambov', 'Penza', 'Saransk', 'Nizhnekamsk', 'Naberezhnye Chelny', 'Almetyevsk', 'Oktyabrskiy', 'Ufa', 'Sterlitamak', 'Salavat', 'Orenberg', 'Orenburg', 'Novotroitsk', 'Orsk', 'Magnitogorsk', 'Miass', 'Zlatoust', 'Chelyabinsk', 'Kopeysk', 'Kamensk‐Uralskiy', 'Yekaterinburg', 'Pervouralsk', 'Nizhniy Tagil', 'Perm', 'Berezniki', 'Izhevsk', 'Neftekamsk', 'Kurgan', 'Tyumen', 'Tobolsk', 'Nefteyugansk', 'Surgut', 'Nizhnevartovsk', 'Noyabrsk', 'Novyy Urengoy', 'Norilsk', 'Seversk', 'Tomsk', 'Kemerovo', 'Leninsk‐Kuznetskiy', 'Prokopyevsk', 'Novokuznetsk', 'Biysk', 'Barnaul', 'Novosibirsk', 'Rubtsovsk', 'Omsk', 'Achinsk', 'Krasnoyarsk', 'Abakan', 'Kyzyl', 'Angarsk', 'Irkutsk', 'Ulan‐Ude', 'Chita', 'Bratsk', 'Yakutsk', 'Magadan', 'Petropavlovsk‐Kamchatskiy', 'Yuzhno‐Sakhalinsk', 'Komsomolsk‐na‐Amure', 'Khabarovsk', 'Ussuriysk', 'Artyom', 'Vladivostok', 'Nakhodka', 'Blagoveshchensk', 'Kaliningrad'], ['Rybinsk', 'Yaroslavl', 'Kostroma', 'Ivanovo', 'Kovrov', 'Vladimir', 'Orekhovo‐Zuevo', 'Noginsk', 'Elektrostal', 'Zheleznodorozhnyy', 'Balashikha', 'Shchyolkovo', 'Korolyov', 'Mytishchi', 'Khimki', 'Zelenograd', 'Moscow', 'Lyubertsy', 'Zhukovskiy', 'Podolsk', 'Odintsovo', 'Obninsk', 'Serpukhov', 'Tula', 'Novomoskovsk', 'Ryazan', 'Kolomna', 'Sergiyev Posad', 'Tver', 'Kaluga', 'Oryol', 'Bryansk', 'Kursk', 'Staryy Oskol', 'Voronezh', 'Lipetsk', 'Yelets', 'Tambov', 'Penza', 'Saransk', 'Arzamas', 'Dzerzhinsk', 'Nizhny Novgorod', 'Murom', 'Cheboksary', 'Novocheboksarsk', 'Yoshkar‐Ola', 'Kazan', 'Ulyanovsk', 'Dimitrovgrad', 'Tolyatti', 'Novokuybyshevsk', 'Samara', 'Syzran', 'Balakovo', 'Engels', 'Saratov', 'Kamyshin', 'Volzhskiy', 'Volgograd', 'Volgodonsk', 'Shakhty', 'Novoshakhtinsk', 'Novocherkassk', 'Rostov‐na‐Donu', 'Bataysk', 'Taganrog', 'Krasnodar', 'Maykop', 'Armavir', 'Stavropol', 'Nevinnomyssk', 'Cherkessk', 'Kislovodsk', 'Pyatigorsk', 'Nalchik', 'Vladikavkaz', 'Nazran', 'Groznyy', 'Khasavyurt', 'Makhachkala', 'Kaspiysk', 'Derbent', 'Astrakhan', 'Elista', 'Sochi', 'Novorossiysk', 'Belgorod', 'Smolensk', 'Velikie Luki', 'Pskov', 'Velikiy Novgorod', 'Kolpino', 'Saint Petersburg', 'Petrozavodsk', 'Cherepovets', 'Vologda', 'Kirov', 'Izhevsk', 'Neftekamsk', 'Naberezhnye Chelny', 'Nizhnekamsk', 'Almetyevsk', 'Oktyabrskiy', 'Ufa', 'Sterlitamak', 'Salavat', 'Orenberg', 'Orenburg', 'Novotroitsk', 'Orsk', 'Magnitogorsk', 'Miass', 'Zlatoust', 'Chelyabinsk', 'Kopeysk', 'Kamensk‐Uralskiy', 'Yekaterinburg', 'Pervouralsk', 'Nizhniy Tagil', 'Perm', 'Berezniki', 'Syktyvkar', 'Arkhangelsk', 'Severodvinsk', 'Murmansk', 'Kaliningrad', 'Tyumen', 'Kurgan', 'Tobolsk', 'Nefteyugansk', 'Surgut', 'Nizhnevartovsk', 'Noyabrsk', 'Novyy Urengoy', 'Norilsk', 'Seversk', 'Tomsk', 'Kemerovo', 'Leninsk‐Kuznetskiy', 'Prokopyevsk', 'Novokuznetsk', 'Biysk', 'Barnaul', 'Novosibirsk', 'Rubtsovsk', 'Omsk', 'Achinsk', 'Krasnoyarsk', 'Abakan', 'Kyzyl', 'Angarsk', 'Irkutsk', 'Ulan‐Ude', 'Chita', 'Bratsk', 'Yakutsk', 'Magadan', 'Petropavlovsk‐Kamchatskiy', 'Yuzhno‐Sakhalinsk', 'Komsomolsk‐na‐Amure', 'Khabarovsk', 'Ussuriysk', 'Artyom', 'Vladivostok', 'Nakhodka', 'Blagoveshchensk'], ['Noyabrsk', 'Surgut', 'Nefteyugansk', 'Nizhnevartovsk', 'Tobolsk', 'Tyumen', 'Kurgan', 'Kopeysk', 'Chelyabinsk', 'Miass', 'Zlatoust', 'Pervouralsk', 'Yekaterinburg', 'Kamensk‐Uralskiy', 'Nizhniy Tagil', 'Perm', 'Berezniki', 'Izhevsk', 'Neftekamsk', 'Naberezhnye Chelny', 'Nizhnekamsk', 'Almetyevsk', 'Oktyabrskiy', 'Ufa', 'Sterlitamak', 'Salavat', 'Orenberg', 'Orenburg', 'Novotroitsk', 'Orsk', 'Magnitogorsk', 'Samara', 'Novokuybyshevsk', 'Tolyatti', 'Syzran', 'Ulyanovsk', 'Dimitrovgrad', 'Kazan', 'Novocheboksarsk', 'Cheboksary', 'Yoshkar‐Ola', 'Nizhny Novgorod', 'Dzerzhinsk', 'Arzamas', 'Murom', 'Kovrov', 'Vladimir', 'Orekhovo‐Zuevo', 'Noginsk', 'Elektrostal', 'Zheleznodorozhnyy', 'Balashikha', 'Shchyolkovo', 'Korolyov', 'Mytishchi', 'Khimki', 'Zelenograd', 'Moscow', 'Lyubertsy', 'Zhukovskiy', 'Podolsk', 'Odintsovo', 'Obninsk', 'Serpukhov', 'Tula', 'Novomoskovsk', 'Ryazan', 'Kolomna', 'Sergiyev Posad', 'Tver', 'Rybinsk', 'Yaroslavl', 'Kostroma', 'Ivanovo', 'Vologda', 'Cherepovets', 'Petrozavodsk', 'Saint Petersburg', 'Kolpino', 'Velikiy Novgorod', 'Pskov', 'Velikie Luki', 'Smolensk', 'Bryansk', 'Oryol', 'Kursk', 'Staryy Oskol', 'Voronezh', 'Lipetsk', 'Yelets', 'Tambov', 'Penza', 'Saransk', 'Balakovo', 'Engels', 'Saratov', 'Kamyshin', 'Volzhskiy', 'Volgograd', 'Volgodonsk', 'Shakhty', 'Novoshakhtinsk', 'Novocherkassk', 'Rostov‐na‐Donu', 'Bataysk', 'Taganrog', 'Krasnodar', 'Maykop', 'Armavir', 'Stavropol', 'Nevinnomyssk', 'Cherkessk', 'Kislovodsk', 'Pyatigorsk', 'Nalchik', 'Vladikavkaz', 'Nazran', 'Groznyy', 'Khasavyurt', 'Makhachkala', 'Kaspiysk', 'Derbent', 'Astrakhan', 'Elista', 'Sochi', 'Novorossiysk', 'Belgorod', 'Kaluga', 'Kirov', 'Syktyvkar', 'Arkhangelsk', 'Severodvinsk', 'Murmansk', 'Kaliningrad', 'Novyy Urengoy', 'Norilsk', 'Seversk', 'Tomsk', 'Kemerovo', 'Leninsk‐Kuznetskiy', 'Prokopyevsk', 'Novokuznetsk', 'Biysk', 'Barnaul', 'Novosibirsk', 'Rubtsovsk', 'Omsk', 'Achinsk', 'Krasnoyarsk', 'Abakan', 'Kyzyl', 'Angarsk', 'Irkutsk', 'Ulan‐Ude', 'Chita', 'Bratsk', 'Yakutsk', 'Magadan', 'Petropavlovsk‐Kamchatskiy', 'Yuzhno‐Sakhalinsk', 'Komsomolsk‐na‐Amure', 'Khabarovsk', 'Ussuriysk', 'Artyom', 'Vladivostok', 'Nakhodka', 'Blagoveshchensk'], ['Vladikavkaz', 'Nazran', 'Groznyy', 'Khasavyurt', 'Makhachkala', 'Kaspiysk', 'Derbent', 'Nalchik', 'Pyatigorsk', 'Kislovodsk', 'Cherkessk', 'Nevinnomyssk', 'Stavropol', 'Armavir', 'Maykop', 'Krasnodar', 'Novorossiysk', 'Sochi', 'Bataysk', 'Rostov‐na‐Donu', 'Novocherkassk', 'Shakhty', 'Novoshakhtinsk', 'Taganrog', 'Volgodonsk', 'Elista', 'Volgograd', 'Volzhskiy', 'Kamyshin', 'Engels', 'Saratov', 'Balakovo', 'Syzran', 'Tolyatti', 'Novokuybyshevsk', 'Samara', 'Dimitrovgrad', 'Ulyanovsk', 'Kazan', 'Novocheboksarsk', 'Cheboksary', 'Yoshkar‐Ola', 'Nizhny Novgorod', 'Dzerzhinsk', 'Arzamas', 'Murom', 'Kovrov', 'Vladimir', 'Orekhovo‐Zuevo', 'Noginsk', 'Elektrostal', 'Zheleznodorozhnyy', 'Balashikha', 'Shchyolkovo', 'Korolyov', 'Mytishchi', 'Khimki', 'Zelenograd', 'Moscow', 'Lyubertsy', 'Zhukovskiy', 'Podolsk', 'Odintsovo', 'Obninsk', 'Serpukhov', 'Tula', 'Novomoskovsk', 'Ryazan', 'Kolomna', 'Sergiyev Posad', 'Tver', 'Rybinsk', 'Yaroslavl', 'Kostroma', 'Ivanovo', 'Vologda', 'Cherepovets', 'Petrozavodsk', 'Saint Petersburg', 'Kolpino', 'Velikiy Novgorod', 'Pskov', 'Velikie Luki', 'Smolensk', 'Bryansk', 'Oryol', 'Kursk', 'Staryy Oskol', 'Voronezh', 'Lipetsk', 'Yelets', 'Tambov', 'Penza', 'Saransk', 'Nizhnekamsk', 'Naberezhnye Chelny', 'Almetyevsk', 'Oktyabrskiy', 'Ufa', 'Sterlitamak', 'Salavat', 'Orenberg', 'Orenburg', 'Novotroitsk', 'Orsk', 'Magnitogorsk', 'Miass', 'Zlatoust', 'Chelyabinsk', 'Kopeysk', 'Kamensk‐Uralskiy', 'Yekaterinburg', 'Pervouralsk', 'Nizhniy Tagil', 'Perm', 'Berezniki', 'Izhevsk', 'Neftekamsk', 'Kirov', 'Syktyvkar', 'Arkhangelsk', 'Severodvinsk', 'Murmansk', 'Kaluga', 'Belgorod', 'Astrakhan', 'Kurgan', 'Tyumen', 'Tobolsk', 'Nefteyugansk', 'Surgut', 'Nizhnevartovsk', 'Noyabrsk', 'Novyy Urengoy', 'Norilsk', 'Seversk', 'Tomsk', 'Kemerovo', 'Leninsk‐Kuznetskiy', 'Prokopyevsk', 'Novokuznetsk', 'Biysk', 'Barnaul', 'Novosibirsk', 'Rubtsovsk', 'Omsk', 'Achinsk', 'Krasnoyarsk', 'Abakan', 'Kyzyl', 'Angarsk', 'Irkutsk', 'Ulan‐Ude', 'Chita', 'Bratsk', 'Yakutsk', 'Magadan', 'Petropavlovsk‐Kamchatskiy', 'Yuzhno‐Sakhalinsk', 'Komsomolsk‐na‐Amure', 'Khabarovsk', 'Ussuriysk', 'Artyom', 'Vladivostok', 'Nakhodka', 'Blagoveshchensk', 'Kaliningrad'], ['Kurgan', 'Tyumen', 'Tobolsk', 'Nefteyugansk', 'Surgut', 'Nizhnevartovsk', 'Noyabrsk', 'Novyy Urengoy', 'Norilsk', 'Seversk', 'Tomsk', 'Kemerovo', 'Leninsk‐Kuznetskiy', 'Prokopyevsk', 'Novokuznetsk', 'Biysk', 'Barnaul', 'Novosibirsk', 'Rubtsovsk', 'Omsk', 'Kamensk‐Uralskiy', 'Yekaterinburg', 'Pervouralsk', 'Nizhniy Tagil', 'Perm', 'Berezniki', 'Izhevsk', 'Neftekamsk', 'Naberezhnye Chelny', 'Nizhnekamsk', 'Almetyevsk', 'Oktyabrskiy', 'Ufa', 'Sterlitamak', 'Salavat', 'Orenberg', 'Orenburg', 'Novotroitsk', 'Orsk', 'Magnitogorsk', 'Miass', 'Zlatoust', 'Chelyabinsk', 'Kopeysk', 'Samara', 'Novokuybyshevsk', 'Tolyatti', 'Syzran', 'Ulyanovsk', 'Dimitrovgrad', 'Kazan', 'Novocheboksarsk', 'Cheboksary', 'Yoshkar‐Ola', 'Nizhny Novgorod', 'Dzerzhinsk', 'Arzamas', 'Murom', 'Kovrov', 'Vladimir', 'Orekhovo‐Zuevo', 'Noginsk', 'Elektrostal', 'Zheleznodorozhnyy', 'Balashikha', 'Shchyolkovo', 'Korolyov', 'Mytishchi', 'Khimki', 'Zelenograd', 'Moscow', 'Lyubertsy', 'Zhukovskiy', 'Podolsk', 'Odintsovo', 'Obninsk', 'Serpukhov', 'Tula', 'Novomoskovsk', 'Ryazan', 'Kolomna', 'Sergiyev Posad', 'Tver', 'Rybinsk', 'Yaroslavl', 'Kostroma', 'Ivanovo', 'Vologda', 'Cherepovets', 'Petrozavodsk', 'Saint Petersburg', 'Kolpino', 'Velikiy Novgorod', 'Pskov', 'Velikie Luki', 'Smolensk', 'Bryansk', 'Oryol', 'Kursk', 'Staryy Oskol', 'Voronezh', 'Lipetsk', 'Yelets', 'Tambov', 'Penza', 'Saransk', 'Balakovo', 'Engels', 'Saratov', 'Kamyshin', 'Volzhskiy', 'Volgograd', 'Volgodonsk', 'Shakhty', 'Novoshakhtinsk', 'Novocherkassk', 'Rostov‐na‐Donu', 'Bataysk', 'Taganrog', 'Krasnodar', 'Maykop', 'Armavir', 'Stavropol', 'Nevinnomyssk', 'Cherkessk', 'Kislovodsk', 'Pyatigorsk', 'Nalchik', 'Vladikavkaz', 'Nazran', 'Groznyy', 'Khasavyurt', 'Makhachkala', 'Kaspiysk', 'Derbent', 'Astrakhan', 'Elista', 'Sochi', 'Novorossiysk', 'Belgorod', 'Kaluga', 'Kirov', 'Syktyvkar', 'Arkhangelsk', 'Severodvinsk', 'Murmansk', 'Kaliningrad', 'Achinsk', 'Krasnoyarsk', 'Abakan', 'Kyzyl', 'Angarsk', 'Irkutsk', 'Ulan‐Ude', 'Chita', 'Bratsk', 'Yakutsk', 'Magadan', 'Petropavlovsk‐Kamchatskiy', 'Yuzhno‐Sakhalinsk', 'Komsomolsk‐na‐Amure', 'Khabarovsk', 'Ussuriysk', 'Artyom', 'Vladivostok', 'Nakhodka', 'Blagoveshchensk'], ['Rubtsovsk', 'Barnaul', 'Biysk', 'Prokopyevsk', 'Novokuznetsk', 'Leninsk‐Kuznetskiy', 'Kemerovo', 'Tomsk', 'Seversk', 'Novosibirsk', 'Achinsk', 'Krasnoyarsk', 'Abakan', 'Kyzyl', 'Angarsk', 'Irkutsk', 'Ulan‐Ude', 'Chita', 'Bratsk', 'Nizhnevartovsk', 'Surgut', 'Nefteyugansk', 'Noyabrsk', 'Novyy Urengoy', 'Norilsk', 'Tobolsk', 'Tyumen', 'Kurgan', 'Kopeysk', 'Chelyabinsk', 'Miass', 'Zlatoust', 'Pervouralsk', 'Yekaterinburg', 'Kamensk‐Uralskiy', 'Nizhniy Tagil', 'Perm', 'Berezniki', 'Izhevsk', 'Neftekamsk', 'Naberezhnye Chelny', 'Nizhnekamsk', 'Almetyevsk', 'Oktyabrskiy', 'Ufa', 'Sterlitamak', 'Salavat', 'Orenberg', 'Orenburg', 'Novotroitsk', 'Orsk', 'Magnitogorsk', 'Samara', 'Novokuybyshevsk', 'Tolyatti', 'Syzran', 'Ulyanovsk', 'Dimitrovgrad', 'Kazan', 'Novocheboksarsk', 'Cheboksary', 'Yoshkar‐Ola', 'Nizhny Novgorod', 'Dzerzhinsk', 'Arzamas', 'Murom', 'Kovrov', 'Vladimir', 'Orekhovo‐Zuevo', 'Noginsk', 'Elektrostal', 'Zheleznodorozhnyy', 'Balashikha', 'Shchyolkovo', 'Korolyov', 'Mytishchi', 'Khimki', 'Zelenograd', 'Moscow', 'Lyubertsy', 'Zhukovskiy', 'Podolsk', 'Odintsovo', 'Obninsk', 'Serpukhov', 'Tula', 'Novomoskovsk', 'Ryazan', 'Kolomna', 'Sergiyev Posad', 'Tver', 'Rybinsk', 'Yaroslavl', 'Kostroma', 'Ivanovo', 'Vologda', 'Cherepovets', 'Petrozavodsk', 'Saint Petersburg', 'Kolpino', 'Velikiy Novgorod', 'Pskov', 'Velikie Luki', 'Smolensk', 'Bryansk', 'Oryol', 'Kursk', 'Staryy Oskol', 'Voronezh', 'Lipetsk', 'Yelets', 'Tambov', 'Penza', 'Saransk', 'Balakovo', 'Engels', 'Saratov', 'Kamyshin', 'Volzhskiy', 'Volgograd', 'Volgodonsk', 'Shakhty', 'Novoshakhtinsk', 'Novocherkassk', 'Rostov‐na‐Donu', 'Bataysk', 'Taganrog', 'Krasnodar', 'Maykop', 'Armavir', 'Stavropol', 'Nevinnomyssk', 'Cherkessk', 'Kislovodsk', 'Pyatigorsk', 'Nalchik', 'Vladikavkaz', 'Nazran', 'Groznyy', 'Khasavyurt', 'Makhachkala', 'Kaspiysk', 'Derbent', 'Astrakhan', 'Elista', 'Sochi', 'Novorossiysk', 'Belgorod', 'Kaluga', 'Kirov', 'Syktyvkar', 'Arkhangelsk', 'Severodvinsk', 'Murmansk', 'Kaliningrad', 'Omsk', 'Yakutsk', 'Magadan', 'Petropavlovsk‐Kamchatskiy', 'Yuzhno‐Sakhalinsk', 'Komsomolsk‐na‐Amure', 'Khabarovsk', 'Ussuriysk', 'Artyom', 'Vladivostok', 'Nakhodka', 'Blagoveshchensk'], ['Angarsk', 'Irkutsk', 'Ulan‐Ude', 'Chita', 'Bratsk', 'Krasnoyarsk', 'Achinsk', 'Abakan', 'Novokuznetsk', 'Prokopyevsk', 'Leninsk‐Kuznetskiy', 'Kemerovo', 'Tomsk', 'Seversk', 'Novosibirsk', 'Barnaul', 'Biysk', 'Rubtsovsk', 'Omsk', 'Tobolsk', 'Tyumen', 'Kurgan', 'Kopeysk', 'Chelyabinsk', 'Miass', 'Zlatoust', 'Pervouralsk', 'Yekaterinburg', 'Kamensk‐Uralskiy', 'Nizhniy Tagil', 'Perm', 'Berezniki', 'Izhevsk', 'Neftekamsk', 'Naberezhnye Chelny', 'Nizhnekamsk', 'Almetyevsk', 'Oktyabrskiy', 'Ufa', 'Sterlitamak', 'Salavat', 'Orenberg', 'Orenburg', 'Novotroitsk', 'Orsk', 'Magnitogorsk', 'Samara', 'Novokuybyshevsk', 'Tolyatti', 'Syzran', 'Ulyanovsk', 'Dimitrovgrad', 'Kazan', 'Novocheboksarsk', 'Cheboksary', 'Yoshkar‐Ola', 'Nizhny Novgorod', 'Dzerzhinsk', 'Arzamas', 'Murom', 'Kovrov', 'Vladimir', 'Orekhovo‐Zuevo', 'Noginsk', 'Elektrostal', 'Zheleznodorozhnyy', 'Balashikha', 'Shchyolkovo', 'Korolyov', 'Mytishchi', 'Khimki', 'Zelenograd', 'Moscow', 'Lyubertsy', 'Zhukovskiy', 'Podolsk', 'Odintsovo', 'Obninsk', 'Serpukhov', 'Tula', 'Novomoskovsk', 'Ryazan', 'Kolomna', 'Sergiyev Posad', 'Tver', 'Rybinsk', 'Yaroslavl', 'Kostroma', 'Ivanovo', 'Vologda', 'Cherepovets', 'Petrozavodsk', 'Saint Petersburg', 'Kolpino', 'Velikiy Novgorod', 'Pskov', 'Velikie Luki', 'Smolensk', 'Bryansk', 'Oryol', 'Kursk', 'Staryy Oskol', 'Voronezh', 'Lipetsk', 'Yelets', 'Tambov', 'Penza', 'Saransk', 'Balakovo', 'Engels', 'Saratov', 'Kamyshin', 'Volzhskiy', 'Volgograd', 'Volgodonsk', 'Shakhty', 'Novoshakhtinsk', 'Novocherkassk', 'Rostov‐na‐Donu', 'Bataysk', 'Taganrog', 'Krasnodar', 'Maykop', 'Armavir', 'Stavropol', 'Nevinnomyssk', 'Cherkessk', 'Kislovodsk', 'Pyatigorsk', 'Nalchik', 'Vladikavkaz', 'Nazran', 'Groznyy', 'Khasavyurt', 'Makhachkala', 'Kaspiysk', 'Derbent', 'Astrakhan', 'Elista', 'Sochi', 'Novorossiysk', 'Belgorod', 'Kaluga', 'Kirov', 'Syktyvkar', 'Arkhangelsk', 'Severodvinsk', 'Murmansk', 'Kaliningrad', 'Nefteyugansk', 'Surgut', 'Nizhnevartovsk', 'Noyabrsk', 'Novyy Urengoy', 'Norilsk', 'Kyzyl', 'Blagoveshchensk', 'Khabarovsk', 'Komsomolsk‐na‐Amure', 'Yuzhno‐Sakhalinsk', 'Nakhodka', 'Artyom', 'Vladivostok', 'Ussuriysk', 'Yakutsk', 'Magadan', 'Petropavlovsk‐Kamchatskiy'], ['Kirov', 'Yoshkar‐Ola', 'Novocheboksarsk', 'Cheboksary', 'Kazan', 'Ulyanovsk', 'Dimitrovgrad', 'Tolyatti', 'Novokuybyshevsk', 'Samara', 'Syzran', 'Balakovo', 'Engels', 'Saratov', 'Kamyshin', 'Volzhskiy', 'Volgograd', 'Volgodonsk', 'Shakhty', 'Novoshakhtinsk', 'Novocherkassk', 'Rostov‐na‐Donu', 'Bataysk', 'Taganrog', 'Krasnodar', 'Maykop', 'Armavir', 'Stavropol', 'Nevinnomyssk', 'Cherkessk', 'Kislovodsk', 'Pyatigorsk', 'Nalchik', 'Vladikavkaz', 'Nazran', 'Groznyy', 'Khasavyurt', 'Makhachkala', 'Kaspiysk', 'Derbent', 'Astrakhan', 'Elista', 'Sochi', 'Novorossiysk', 'Belgorod', 'Staryy Oskol', 'Voronezh', 'Lipetsk', 'Yelets', 'Novomoskovsk', 'Tula', 'Serpukhov', 'Obninsk', 'Kaluga', 'Podolsk', 'Odintsovo', 'Moscow', 'Mytishchi', 'Korolyov', 'Shchyolkovo', 'Balashikha', 'Zheleznodorozhnyy', 'Lyubertsy', 'Zhukovskiy', 'Elektrostal', 'Noginsk', 'Orekhovo‐Zuevo', 'Sergiyev Posad', 'Khimki', 'Zelenograd', 'Tver', 'Rybinsk', 'Yaroslavl', 'Kostroma', 'Ivanovo', 'Kovrov', 'Vladimir', 'Murom', 'Arzamas', 'Dzerzhinsk', 'Nizhny Novgorod', 'Saransk', 'Penza', 'Tambov', 'Ryazan', 'Kolomna', 'Oryol', 'Bryansk', 'Kursk', 'Smolensk', 'Velikie Luki', 'Pskov', 'Velikiy Novgorod', 'Kolpino', 'Saint Petersburg', 'Petrozavodsk', 'Cherepovets', 'Vologda', 'Severodvinsk', 'Arkhangelsk', 'Murmansk', 'Syktyvkar', 'Berezniki', 'Perm', 'Nizhniy Tagil', 'Pervouralsk', 'Yekaterinburg', 'Kamensk‐Uralskiy', 'Chelyabinsk', 'Kopeysk', 'Miass', 'Zlatoust', 'Magnitogorsk', 'Sterlitamak', 'Salavat', 'Ufa', 'Oktyabrskiy', 'Almetyevsk', 'Naberezhnye Chelny', 'Nizhnekamsk', 'Izhevsk', 'Neftekamsk', 'Orenberg', 'Orenburg', 'Novotroitsk', 'Orsk', 'Kurgan', 'Tyumen', 'Tobolsk', 'Nefteyugansk', 'Surgut', 'Nizhnevartovsk', 'Noyabrsk', 'Novyy Urengoy', 'Norilsk', 'Seversk', 'Tomsk', 'Kemerovo', 'Leninsk‐Kuznetskiy', 'Prokopyevsk', 'Novokuznetsk', 'Biysk', 'Barnaul', 'Novosibirsk', 'Rubtsovsk', 'Omsk', 'Achinsk', 'Krasnoyarsk', 'Abakan', 'Kyzyl', 'Angarsk', 'Irkutsk', 'Ulan‐Ude', 'Chita', 'Bratsk', 'Yakutsk', 'Magadan', 'Petropavlovsk‐Kamchatskiy', 'Yuzhno‐Sakhalinsk', 'Komsomolsk‐na‐Amure', 'Khabarovsk', 'Ussuriysk', 'Artyom', 'Vladivostok', 'Nakhodka', 'Blagoveshchensk', 'Kaliningrad'], ['Orekhovo‐Zuevo', 'Noginsk', 'Elektrostal', 'Zheleznodorozhnyy', 'Balashikha', 'Shchyolkovo', 'Korolyov', 'Mytishchi', 'Khimki', 'Zelenograd', 'Moscow', 'Lyubertsy', 'Zhukovskiy', 'Podolsk', 'Odintsovo', 'Obninsk', 'Serpukhov', 'Tula', 'Novomoskovsk', 'Ryazan', 'Kolomna', 'Sergiyev Posad', 'Vladimir', 'Kovrov', 'Ivanovo', 'Kostroma', 'Yaroslavl', 'Rybinsk', 'Cherepovets', 'Vologda', 'Tver', 'Kaluga', 'Oryol', 'Bryansk', 'Kursk', 'Staryy Oskol', 'Voronezh', 'Lipetsk', 'Yelets', 'Tambov', 'Penza', 'Saransk', 'Arzamas', 'Dzerzhinsk', 'Nizhny Novgorod', 'Murom', 'Cheboksary', 'Novocheboksarsk', 'Yoshkar‐Ola', 'Kazan', 'Ulyanovsk', 'Dimitrovgrad', 'Tolyatti', 'Novokuybyshevsk', 'Samara', 'Syzran', 'Balakovo', 'Engels', 'Saratov', 'Kamyshin', 'Volzhskiy', 'Volgograd', 'Volgodonsk', 'Shakhty', 'Novoshakhtinsk', 'Novocherkassk', 'Rostov‐na‐Donu', 'Bataysk', 'Taganrog', 'Krasnodar', 'Maykop', 'Armavir', 'Stavropol', 'Nevinnomyssk', 'Cherkessk', 'Kislovodsk', 'Pyatigorsk', 'Nalchik', 'Vladikavkaz', 'Nazran', 'Groznyy', 'Khasavyurt', 'Makhachkala', 'Kaspiysk', 'Derbent', 'Astrakhan', 'Elista', 'Sochi', 'Novorossiysk', 'Belgorod', 'Smolensk', 'Velikie Luki', 'Pskov', 'Velikiy Novgorod', 'Kolpino', 'Saint Petersburg', 'Petrozavodsk', 'Severodvinsk', 'Arkhangelsk', 'Murmansk', 'Syktyvkar', 'Kirov', 'Izhevsk', 'Neftekamsk', 'Naberezhnye Chelny', 'Nizhnekamsk', 'Almetyevsk', 'Oktyabrskiy', 'Ufa', 'Sterlitamak', 'Salavat', 'Orenberg', 'Orenburg', 'Novotroitsk', 'Orsk', 'Magnitogorsk', 'Miass', 'Zlatoust', 'Chelyabinsk', 'Kopeysk', 'Kamensk‐Uralskiy', 'Yekaterinburg', 'Pervouralsk', 'Nizhniy Tagil', 'Perm', 'Berezniki', 'Tyumen', 'Kurgan', 'Tobolsk', 'Nefteyugansk', 'Surgut', 'Nizhnevartovsk', 'Noyabrsk', 'Novyy Urengoy', 'Norilsk', 'Seversk', 'Tomsk', 'Kemerovo', 'Leninsk‐Kuznetskiy', 'Prokopyevsk', 'Novokuznetsk', 'Biysk', 'Barnaul', 'Novosibirsk', 'Rubtsovsk', 'Omsk', 'Achinsk', 'Krasnoyarsk', 'Abakan', 'Kyzyl', 'Angarsk', 'Irkutsk', 'Ulan‐Ude', 'Chita', 'Bratsk', 'Yakutsk', 'Magadan', 'Petropavlovsk‐Kamchatskiy', 'Yuzhno‐Sakhalinsk', 'Komsomolsk‐na‐Amure', 'Khabarovsk', 'Ussuriysk', 'Artyom', 'Vladivostok', 'Nakhodka', 'Blagoveshchensk', 'Kaliningrad'], ['Achinsk', 'Krasnoyarsk', 'Abakan', 'Novokuznetsk', 'Prokopyevsk', 'Leninsk‐Kuznetskiy', 'Kemerovo', 'Tomsk', 'Seversk', 'Novosibirsk', 'Barnaul', 'Biysk', 'Rubtsovsk', 'Omsk', 'Tobolsk', 'Tyumen', 'Kurgan', 'Kopeysk', 'Chelyabinsk', 'Miass', 'Zlatoust', 'Pervouralsk', 'Yekaterinburg', 'Kamensk‐Uralskiy', 'Nizhniy Tagil', 'Perm', 'Berezniki', 'Izhevsk', 'Neftekamsk', 'Naberezhnye Chelny', 'Nizhnekamsk', 'Almetyevsk', 'Oktyabrskiy', 'Ufa', 'Sterlitamak', 'Salavat', 'Orenberg', 'Orenburg', 'Novotroitsk', 'Orsk', 'Magnitogorsk', 'Samara', 'Novokuybyshevsk', 'Tolyatti', 'Syzran', 'Ulyanovsk', 'Dimitrovgrad', 'Kazan', 'Novocheboksarsk', 'Cheboksary', 'Yoshkar‐Ola', 'Nizhny Novgorod', 'Dzerzhinsk', 'Arzamas', 'Murom', 'Kovrov', 'Vladimir', 'Orekhovo‐Zuevo', 'Noginsk', 'Elektrostal', 'Zheleznodorozhnyy', 'Balashikha', 'Shchyolkovo', 'Korolyov', 'Mytishchi', 'Khimki', 'Zelenograd', 'Moscow', 'Lyubertsy', 'Zhukovskiy', 'Podolsk', 'Odintsovo', 'Obninsk', 'Serpukhov', 'Tula', 'Novomoskovsk', 'Ryazan', 'Kolomna', 'Sergiyev Posad', 'Tver', 'Rybinsk', 'Yaroslavl', 'Kostroma', 'Ivanovo', 'Vologda', 'Cherepovets', 'Petrozavodsk', 'Saint Petersburg', 'Kolpino', 'Velikiy Novgorod', 'Pskov', 'Velikie Luki', 'Smolensk', 'Bryansk', 'Oryol', 'Kursk', 'Staryy Oskol', 'Voronezh', 'Lipetsk', 'Yelets', 'Tambov', 'Penza', 'Saransk', 'Balakovo', 'Engels', 'Saratov', 'Kamyshin', 'Volzhskiy', 'Volgograd', 'Volgodonsk', 'Shakhty', 'Novoshakhtinsk', 'Novocherkassk', 'Rostov‐na‐Donu', 'Bataysk', 'Taganrog', 'Krasnodar', 'Maykop', 'Armavir', 'Stavropol', 'Nevinnomyssk', 'Cherkessk', 'Kislovodsk', 'Pyatigorsk', 'Nalchik', 'Vladikavkaz', 'Nazran', 'Groznyy', 'Khasavyurt', 'Makhachkala', 'Kaspiysk', 'Derbent', 'Astrakhan', 'Elista', 'Sochi', 'Novorossiysk', 'Belgorod', 'Kaluga', 'Kirov', 'Syktyvkar', 'Arkhangelsk', 'Severodvinsk', 'Murmansk', 'Kaliningrad', 'Nefteyugansk', 'Surgut', 'Nizhnevartovsk', 'Noyabrsk', 'Novyy Urengoy', 'Norilsk', 'Bratsk', 'Angarsk', 'Irkutsk', 'Ulan‐Ude', 'Chita', 'Blagoveshchensk', 'Khabarovsk', 'Komsomolsk‐na‐Amure', 'Yuzhno‐Sakhalinsk', 'Nakhodka', 'Artyom', 'Vladivostok', 'Ussuriysk', 'Yakutsk', 'Magadan', 'Petropavlovsk‐Kamchatskiy', 'Kyzyl']]\n"
     ]
    }
   ],
   "source": [
    "population_size = 5\n",
    "population = initial_population(10)\n",
    "print(population)\n",
    "\n",
    "# route_cost = []\n",
    "# for i in range(len(population)):\n",
    "#     route_cost.append(cost(population[i]))\n",
    "\n",
    "# print(min(route_cost))\n"
   ]
  },
  {
   "cell_type": "code",
   "execution_count": 445,
   "metadata": {},
   "outputs": [],
   "source": [
    "def selected_parents(population):\n",
    "    \n",
    "    routes_fitnesses = [(route, fitness(route)) for route in population]\n",
    "    # print(\"\\n fitnesses\")\n",
    "    # print(routes_fitnesses)\n",
    "    #print(\"max fitness:\", max(route_fitnesses), \"- index:\", route_fitnesses.index(max(route_fitnesses)))\n",
    "\n",
    "    #max fitness -> rank 1, 2nd best -> rank 2... worst fitness rank 0\n",
    "    # sorted_indices = np.argsort(route_fitnesses)[::-1] \n",
    "    # print(\"\\n sorted indices\", sorted_indices)\n",
    "    #sorted_routes = [population[index] for index in sorted_indices]\n",
    "    #print(\"\\n sorted routes\", sorted_routes)\n",
    "    \n",
    "    sorted_routes_fitnesses = sorted(routes_fitnesses, key=lambda x: x[1])\n",
    "    #print(sorted_routes_fitnesses)\n",
    "    sorted_routes = [elt[0] for elt in sorted_routes_fitnesses]\n",
    "    #print(sorted_routes)\n",
    "        \n",
    "    ranks = np.arange(1, len(population)+1)\n",
    "    #print(\"\\n ranks\", ranks)\n",
    "    total_ranks = sum(ranks)\n",
    "    \n",
    "    probabilities = ranks / total_ranks\n",
    "    #print(\"/n probabilities\", probabilities)\n",
    "    \n",
    "    parents = []\n",
    "    while parents == [] or parents[0] == parents[1]:    \n",
    "        parents = random.choices(sorted_routes, weights=probabilities, k=2)\n",
    "    \n",
    "    return parents[0], parents[1]"
   ]
  },
  {
   "cell_type": "code",
   "execution_count": 446,
   "metadata": {},
   "outputs": [
    {
     "name": "stdout",
     "output_type": "stream",
     "text": [
      "parent1 ['Tver', 'Zelenograd', 'Khimki', 'Mytishchi', 'Korolyov', 'Shchyolkovo', 'Balashikha', 'Zheleznodorozhnyy', 'Lyubertsy', 'Moscow', 'Odintsovo', 'Podolsk', 'Zhukovskiy', 'Elektrostal', 'Noginsk', 'Orekhovo‐Zuevo', 'Sergiyev Posad', 'Vladimir', 'Kovrov', 'Ivanovo', 'Kostroma', 'Yaroslavl', 'Rybinsk', 'Cherepovets', 'Vologda', 'Dzerzhinsk', 'Nizhny Novgorod', 'Arzamas', 'Murom', 'Ryazan', 'Kolomna', 'Serpukhov', 'Obninsk', 'Kaluga', 'Tula', 'Novomoskovsk', 'Yelets', 'Lipetsk', 'Voronezh', 'Staryy Oskol', 'Belgorod', 'Kursk', 'Oryol', 'Bryansk', 'Smolensk', 'Velikie Luki', 'Pskov', 'Velikiy Novgorod', 'Kolpino', 'Saint Petersburg', 'Petrozavodsk', 'Severodvinsk', 'Arkhangelsk', 'Murmansk', 'Syktyvkar', 'Kirov', 'Yoshkar‐Ola', 'Novocheboksarsk', 'Cheboksary', 'Kazan', 'Ulyanovsk', 'Dimitrovgrad', 'Tolyatti', 'Novokuybyshevsk', 'Samara', 'Syzran', 'Balakovo', 'Engels', 'Saratov', 'Kamyshin', 'Volzhskiy', 'Volgograd', 'Volgodonsk', 'Shakhty', 'Novoshakhtinsk', 'Novocherkassk', 'Rostov‐na‐Donu', 'Bataysk', 'Taganrog', 'Krasnodar', 'Maykop', 'Armavir', 'Stavropol', 'Nevinnomyssk', 'Cherkessk', 'Kislovodsk', 'Pyatigorsk', 'Nalchik', 'Vladikavkaz', 'Nazran', 'Groznyy', 'Khasavyurt', 'Makhachkala', 'Kaspiysk', 'Derbent', 'Astrakhan', 'Elista', 'Sochi', 'Novorossiysk', 'Tambov', 'Penza', 'Saransk', 'Nizhnekamsk', 'Naberezhnye Chelny', 'Almetyevsk', 'Oktyabrskiy', 'Ufa', 'Sterlitamak', 'Salavat', 'Orenberg', 'Orenburg', 'Novotroitsk', 'Orsk', 'Magnitogorsk', 'Miass', 'Zlatoust', 'Chelyabinsk', 'Kopeysk', 'Kamensk‐Uralskiy', 'Yekaterinburg', 'Pervouralsk', 'Nizhniy Tagil', 'Perm', 'Berezniki', 'Izhevsk', 'Neftekamsk', 'Kurgan', 'Tyumen', 'Tobolsk', 'Nefteyugansk', 'Surgut', 'Nizhnevartovsk', 'Noyabrsk', 'Novyy Urengoy', 'Norilsk', 'Seversk', 'Tomsk', 'Kemerovo', 'Leninsk‐Kuznetskiy', 'Prokopyevsk', 'Novokuznetsk', 'Biysk', 'Barnaul', 'Novosibirsk', 'Rubtsovsk', 'Omsk', 'Achinsk', 'Krasnoyarsk', 'Abakan', 'Kyzyl', 'Angarsk', 'Irkutsk', 'Ulan‐Ude', 'Chita', 'Bratsk', 'Yakutsk', 'Magadan', 'Petropavlovsk‐Kamchatskiy', 'Yuzhno‐Sakhalinsk', 'Komsomolsk‐na‐Amure', 'Khabarovsk', 'Ussuriysk', 'Artyom', 'Vladivostok', 'Nakhodka', 'Blagoveshchensk', 'Kaliningrad']\n",
      "parent2 ['Angarsk', 'Irkutsk', 'Ulan‐Ude', 'Chita', 'Bratsk', 'Krasnoyarsk', 'Achinsk', 'Abakan', 'Novokuznetsk', 'Prokopyevsk', 'Leninsk‐Kuznetskiy', 'Kemerovo', 'Tomsk', 'Seversk', 'Novosibirsk', 'Barnaul', 'Biysk', 'Rubtsovsk', 'Omsk', 'Tobolsk', 'Tyumen', 'Kurgan', 'Kopeysk', 'Chelyabinsk', 'Miass', 'Zlatoust', 'Pervouralsk', 'Yekaterinburg', 'Kamensk‐Uralskiy', 'Nizhniy Tagil', 'Perm', 'Berezniki', 'Izhevsk', 'Neftekamsk', 'Naberezhnye Chelny', 'Nizhnekamsk', 'Almetyevsk', 'Oktyabrskiy', 'Ufa', 'Sterlitamak', 'Salavat', 'Orenberg', 'Orenburg', 'Novotroitsk', 'Orsk', 'Magnitogorsk', 'Samara', 'Novokuybyshevsk', 'Tolyatti', 'Syzran', 'Ulyanovsk', 'Dimitrovgrad', 'Kazan', 'Novocheboksarsk', 'Cheboksary', 'Yoshkar‐Ola', 'Nizhny Novgorod', 'Dzerzhinsk', 'Arzamas', 'Murom', 'Kovrov', 'Vladimir', 'Orekhovo‐Zuevo', 'Noginsk', 'Elektrostal', 'Zheleznodorozhnyy', 'Balashikha', 'Shchyolkovo', 'Korolyov', 'Mytishchi', 'Khimki', 'Zelenograd', 'Moscow', 'Lyubertsy', 'Zhukovskiy', 'Podolsk', 'Odintsovo', 'Obninsk', 'Serpukhov', 'Tula', 'Novomoskovsk', 'Ryazan', 'Kolomna', 'Sergiyev Posad', 'Tver', 'Rybinsk', 'Yaroslavl', 'Kostroma', 'Ivanovo', 'Vologda', 'Cherepovets', 'Petrozavodsk', 'Saint Petersburg', 'Kolpino', 'Velikiy Novgorod', 'Pskov', 'Velikie Luki', 'Smolensk', 'Bryansk', 'Oryol', 'Kursk', 'Staryy Oskol', 'Voronezh', 'Lipetsk', 'Yelets', 'Tambov', 'Penza', 'Saransk', 'Balakovo', 'Engels', 'Saratov', 'Kamyshin', 'Volzhskiy', 'Volgograd', 'Volgodonsk', 'Shakhty', 'Novoshakhtinsk', 'Novocherkassk', 'Rostov‐na‐Donu', 'Bataysk', 'Taganrog', 'Krasnodar', 'Maykop', 'Armavir', 'Stavropol', 'Nevinnomyssk', 'Cherkessk', 'Kislovodsk', 'Pyatigorsk', 'Nalchik', 'Vladikavkaz', 'Nazran', 'Groznyy', 'Khasavyurt', 'Makhachkala', 'Kaspiysk', 'Derbent', 'Astrakhan', 'Elista', 'Sochi', 'Novorossiysk', 'Belgorod', 'Kaluga', 'Kirov', 'Syktyvkar', 'Arkhangelsk', 'Severodvinsk', 'Murmansk', 'Kaliningrad', 'Nefteyugansk', 'Surgut', 'Nizhnevartovsk', 'Noyabrsk', 'Novyy Urengoy', 'Norilsk', 'Kyzyl', 'Blagoveshchensk', 'Khabarovsk', 'Komsomolsk‐na‐Amure', 'Yuzhno‐Sakhalinsk', 'Nakhodka', 'Artyom', 'Vladivostok', 'Ussuriysk', 'Yakutsk', 'Magadan', 'Petropavlovsk‐Kamchatskiy']\n"
     ]
    }
   ],
   "source": [
    "parent1, parent2 = selected_parents(population) \n",
    "print(\"parent1\", parent1)\n",
    "print(\"parent2\", parent2)"
   ]
  },
  {
   "cell_type": "code",
   "execution_count": null,
   "metadata": {},
   "outputs": [
    {
     "name": "stdout",
     "output_type": "stream",
     "text": [
      "['Kursk', 'Staryy Oskol', 'Voronezh', 'Lipetsk', 'Yelets', 'Novomoskovsk', 'Tula', 'Serpukhov', 'Obninsk', 'Kaluga', 'Podolsk', 'Odintsovo', 'Moscow', 'Mytishchi', 'Korolyov', 'Shchyolkovo', 'Balashikha', 'Zheleznodorozhnyy', 'Lyubertsy', 'Zhukovskiy', 'Elektrostal', 'Noginsk', 'Orekhovo‐Zuevo', 'Sergiyev Posad', 'Khimki', 'Zelenograd', 'Tver', 'Rybinsk', 'Yaroslavl', 'Kostroma', 'Ivanovo', 'Kovrov', 'Vladimir', 'Murom', 'Arzamas', 'Dzerzhinsk', 'Nizhny Novgorod', 'Cheboksary', 'Novocheboksarsk', 'Yoshkar‐Ola', 'Kazan', 'Ulyanovsk', 'Dimitrovgrad', 'Tolyatti', 'Novokuybyshevsk', 'Samara', 'Syzran', 'Balakovo', 'Engels', 'Saratov', 'Kamyshin', 'Volzhskiy', 'Volgograd', 'Volgodonsk', 'Shakhty', 'Novoshakhtinsk', 'Novocherkassk', 'Rostov‐na‐Donu', 'Bataysk', 'Taganrog', 'Krasnodar', 'Maykop', 'Armavir', 'Stavropol', 'Nevinnomyssk', 'Cherkessk', 'Kislovodsk', 'Pyatigorsk', 'Nalchik', 'Vladikavkaz', 'Nazran', 'Groznyy', 'Khasavyurt', 'Makhachkala', 'Kaspiysk', 'Derbent', 'Astrakhan', 'Elista', 'Sochi', 'Novorossiysk', 'Belgorod', 'Oryol', 'Bryansk', 'Smolensk', 'Velikie Luki', 'Pskov', 'Velikiy Novgorod', 'Kolpino', 'Saint Petersburg', 'Petrozavodsk', 'Cherepovets', 'Vologda', 'Kolomna', 'Ryazan', 'Tambov', 'Penza', 'Saransk', 'Nizhnekamsk', 'Naberezhnye Chelny', 'Almetyevsk', 'Oktyabrskiy', 'Ufa', 'Sterlitamak', 'Salavat', 'Orenberg', 'Orenburg', 'Novotroitsk', 'Orsk', 'Magnitogorsk', 'Miass', 'Zlatoust', 'Chelyabinsk', 'Kopeysk', 'Kamensk‐Uralskiy', 'Yekaterinburg', 'Pervouralsk', 'Nizhniy Tagil', 'Perm', 'Berezniki', 'Izhevsk', 'Neftekamsk', 'Kirov', 'Syktyvkar', 'Arkhangelsk', 'Severodvinsk', 'Murmansk', 'Kaliningrad', 'Tyumen', 'Kurgan', 'Tobolsk', 'Nefteyugansk', 'Surgut', 'Nizhnevartovsk', 'Noyabrsk', 'Novyy Urengoy', 'Norilsk', 'Seversk', 'Tomsk', 'Kemerovo', 'Leninsk‐Kuznetskiy', 'Prokopyevsk', 'Novokuznetsk', 'Biysk', 'Barnaul', 'Novosibirsk', 'Rubtsovsk', 'Omsk', 'Achinsk', 'Krasnoyarsk', 'Abakan', 'Kyzyl', 'Angarsk', 'Irkutsk', 'Ulan‐Ude', 'Chita', 'Bratsk', 'Yakutsk', 'Magadan', 'Petropavlovsk‐Kamchatskiy', 'Yuzhno‐Sakhalinsk', 'Komsomolsk‐na‐Amure', 'Khabarovsk', 'Ussuriysk', 'Artyom', 'Vladivostok', 'Nakhodka', 'Blagoveshchensk'] ['Petrozavodsk', 'Saint Petersburg', 'Kolpino', 'Velikiy Novgorod', 'Pskov', 'Velikie Luki', 'Smolensk', 'Bryansk', 'Oryol', 'Kursk', 'Staryy Oskol', 'Voronezh', 'Lipetsk', 'Yelets', 'Novomoskovsk', 'Tula', 'Serpukhov', 'Obninsk', 'Kaluga', 'Podolsk', 'Odintsovo', 'Moscow', 'Mytishchi', 'Korolyov', 'Shchyolkovo', 'Balashikha', 'Zheleznodorozhnyy', 'Lyubertsy', 'Zhukovskiy', 'Elektrostal', 'Noginsk', 'Orekhovo‐Zuevo', 'Sergiyev Posad', 'Khimki', 'Zelenograd', 'Tver', 'Rybinsk', 'Yaroslavl', 'Kostroma', 'Ivanovo', 'Kovrov', 'Vladimir', 'Murom', 'Arzamas', 'Dzerzhinsk', 'Nizhny Novgorod', 'Cheboksary', 'Novocheboksarsk', 'Yoshkar‐Ola', 'Kazan', 'Ulyanovsk', 'Dimitrovgrad', 'Tolyatti', 'Novokuybyshevsk', 'Samara', 'Syzran', 'Balakovo', 'Engels', 'Saratov', 'Kamyshin', 'Volzhskiy', 'Volgograd', 'Volgodonsk', 'Shakhty', 'Novoshakhtinsk', 'Novocherkassk', 'Rostov‐na‐Donu', 'Bataysk', 'Taganrog', 'Krasnodar', 'Maykop', 'Armavir', 'Stavropol', 'Nevinnomyssk', 'Cherkessk', 'Kislovodsk', 'Pyatigorsk', 'Nalchik', 'Vladikavkaz', 'Nazran', 'Groznyy', 'Khasavyurt', 'Makhachkala', 'Kaspiysk', 'Derbent', 'Astrakhan', 'Elista', 'Sochi', 'Novorossiysk', 'Belgorod', 'Tambov', 'Ryazan', 'Kolomna', 'Saransk', 'Penza', 'Almetyevsk', 'Naberezhnye Chelny', 'Nizhnekamsk', 'Izhevsk', 'Neftekamsk', 'Ufa', 'Sterlitamak', 'Salavat', 'Orenberg', 'Orenburg', 'Novotroitsk', 'Orsk', 'Magnitogorsk', 'Miass', 'Zlatoust', 'Chelyabinsk', 'Kopeysk', 'Kamensk‐Uralskiy', 'Yekaterinburg', 'Pervouralsk', 'Nizhniy Tagil', 'Perm', 'Berezniki', 'Syktyvkar', 'Kirov', 'Oktyabrskiy', 'Kurgan', 'Tyumen', 'Tobolsk', 'Nefteyugansk', 'Surgut', 'Nizhnevartovsk', 'Noyabrsk', 'Novyy Urengoy', 'Norilsk', 'Seversk', 'Tomsk', 'Kemerovo', 'Leninsk‐Kuznetskiy', 'Prokopyevsk', 'Novokuznetsk', 'Biysk', 'Barnaul', 'Novosibirsk', 'Rubtsovsk', 'Omsk', 'Achinsk', 'Krasnoyarsk', 'Abakan', 'Kyzyl', 'Angarsk', 'Irkutsk', 'Ulan‐Ude', 'Chita', 'Bratsk', 'Yakutsk', 'Magadan', 'Petropavlovsk‐Kamchatskiy', 'Yuzhno‐Sakhalinsk', 'Komsomolsk‐na‐Amure', 'Khabarovsk', 'Ussuriysk', 'Artyom', 'Vladivostok', 'Nakhodka', 'Blagoveshchensk', 'Arkhangelsk', 'Severodvinsk', 'Murmansk', 'Cherepovets', 'Vologda', 'Kaliningrad']\n"
     ]
    }
   ],
   "source": [
    "population = initial_population(10)\n",
    "parent1, parent2 = selected_parents(population)\n",
    "\n",
    "print(parent1, parent2)"
   ]
  },
  {
   "cell_type": "code",
   "execution_count": null,
   "metadata": {},
   "outputs": [],
   "source": [
    "def inver_over(parent1, parent2):\n",
    "    \n",
    "    point1, point2 = 0, 0\n",
    "    while point1 == point2:\n",
    "        point1 = random.randint(0, len(parent1)-1)\n",
    "        point2 = random.randint(0, len(parent1)-1)\n",
    "    #print(point1, point2)\n",
    "    \n",
    "    if point1 > point2:\n",
    "        point1, point2 = point2, point1\n",
    "        \n",
    "    inverted_seg = parent1[point1+1:point2+1][::-1]\n",
    "    #print(inverted_seg)\n",
    "    offspring = [None] * len(parent1)\n",
    "    \n",
    "    offspring[point1+1:point2+1] = inverted_seg\n",
    "    offspring[point1] = parent1[point1]\n",
    "    #print(\"offspring\", offspring)\n",
    "    parent2_index = 0\n",
    "    for i in range(len(parent2)):\n",
    "        if offspring[i] is None:\n",
    "            while parent2[parent2_index] in offspring:\n",
    "                #print(parent2[parent2_index], parent2_index)\n",
    "                parent2_index += 1\n",
    "            offspring[i] = parent2[parent2_index]\n",
    "            #print(\"offspring\", offspring)\n",
    "            parent2_index += 1\n",
    "        \n",
    "    \n",
    "    return offspring"
   ]
  },
  {
   "cell_type": "code",
   "execution_count": 452,
   "metadata": {},
   "outputs": [
    {
     "ename": "KeyboardInterrupt",
     "evalue": "",
     "output_type": "error",
     "traceback": [
      "\u001b[1;31m---------------------------------------------------------------------------\u001b[0m",
      "\u001b[1;31mKeyboardInterrupt\u001b[0m                         Traceback (most recent call last)",
      "Cell \u001b[1;32mIn[452], line 16\u001b[0m\n\u001b[0;32m     13\u001b[0m offspring_fitness \u001b[38;5;241m=\u001b[39m fitness(offspring)\n\u001b[0;32m     15\u001b[0m \u001b[38;5;66;03m#costs = [(cost(route), route) for route in population]\u001b[39;00m\n\u001b[1;32m---> 16\u001b[0m fitnesses \u001b[38;5;241m=\u001b[39m [(\u001b[43mfitness\u001b[49m\u001b[43m(\u001b[49m\u001b[43mroute\u001b[49m\u001b[43m)\u001b[49m, route) \u001b[38;5;28;01mfor\u001b[39;00m route \u001b[38;5;129;01min\u001b[39;00m population]\n\u001b[0;32m     17\u001b[0m \u001b[38;5;66;03m#min_cost_route = min(costs, key=lambda x:x[0])\u001b[39;00m\n\u001b[0;32m     18\u001b[0m min_fitness_route \u001b[38;5;241m=\u001b[39m \u001b[38;5;28mmin\u001b[39m(fitnesses, key\u001b[38;5;241m=\u001b[39m\u001b[38;5;28;01mlambda\u001b[39;00m x:x[\u001b[38;5;241m0\u001b[39m])\n",
      "Cell \u001b[1;32mIn[440], line 13\u001b[0m, in \u001b[0;36mfitness\u001b[1;34m(route)\u001b[0m\n\u001b[0;32m     12\u001b[0m \u001b[38;5;28;01mdef\u001b[39;00m \u001b[38;5;21mfitness\u001b[39m(route):\n\u001b[1;32m---> 13\u001b[0m     \u001b[38;5;28;01mreturn\u001b[39;00m \u001b[38;5;241m-\u001b[39m\u001b[43mcost\u001b[49m\u001b[43m(\u001b[49m\u001b[43mroute\u001b[49m\u001b[43m)\u001b[49m\n",
      "Cell \u001b[1;32mIn[440], line 7\u001b[0m, in \u001b[0;36mcost\u001b[1;34m(route)\u001b[0m\n\u001b[0;32m      5\u001b[0m cost \u001b[38;5;241m=\u001b[39m \u001b[38;5;241m0\u001b[39m\n\u001b[0;32m      6\u001b[0m \u001b[38;5;28;01mfor\u001b[39;00m c1, c2 \u001b[38;5;129;01min\u001b[39;00m \u001b[38;5;28mzip\u001b[39m(route, route[\u001b[38;5;241m1\u001b[39m:]):\n\u001b[1;32m----> 7\u001b[0m     cost \u001b[38;5;241m+\u001b[39m\u001b[38;5;241m=\u001b[39m DIST_MATRIX[city_indices[c1], city_indices[c2]]\n\u001b[0;32m      8\u001b[0m     \u001b[38;5;66;03m#print(city_indices[c1], c1, city_indices[c2], c2, DIST_MATRIX[city_indices[c1], city_indices[c2]])\u001b[39;00m\n\u001b[0;32m      9\u001b[0m route\u001b[38;5;241m.\u001b[39mpop()\n",
      "\u001b[1;31mKeyboardInterrupt\u001b[0m: "
     ]
    }
   ],
   "source": [
    "optimal_route = None\n",
    "optimal_distance = float('inf')\n",
    "\n",
    "population = initial_population(1000)\n",
    "\n",
    "for step in range(1000):\n",
    "    #print(f\"\\nstep {step+1}\")\n",
    "    \n",
    "    parent1, parent2 = selected_parents(population)\n",
    "    \n",
    "    offspring = inver_over(parent1, parent2)\n",
    "    #offspring_cost = cost(offspring)\n",
    "    offspring_fitness = fitness(offspring)\n",
    "\n",
    "    #costs = [(cost(route), route) for route in population]\n",
    "    fitnesses = [(fitness(route), route) for route in population]\n",
    "    #min_cost_route = min(costs, key=lambda x:x[0])\n",
    "    min_fitness_route = min(fitnesses, key=lambda x:x[0])\n",
    "    #min_cost = min_cost_route[0]\n",
    "    max_fitness = min_fitness_route[0]\n",
    "    \n",
    "    if offspring_fitness > max_fitness:\n",
    "        index = population.index(min_fitness_route[1])\n",
    "        population[index] = offspring\n",
    "        \n",
    "fitnesses = [fitness(route) for route in population]\n",
    "max_fitness = max(fitnesses)\n",
    "print(max_fitness)"
   ]
  },
  {
   "cell_type": "code",
   "execution_count": 451,
   "metadata": {},
   "outputs": [],
   "source": [
    "# optimal_route = None\n",
    "# optimal_distance = float('inf')\n",
    "\n",
    "# population = initial_population(20)\n",
    "\n",
    "# for step in range(100):\n",
    "#     print(f\"\\nstep {step+1}\")\n",
    "    \n",
    "#     for i in range(10):\n",
    "#         parent1, parent2 = selected_parents(population)\n",
    "#         print(\"parent1\", parent1)\n",
    "#         print(\"parent2\", parent2)\n",
    "#         offspring = inver_over(parent1, parent2)\n",
    "#         population.append(offspring)\n",
    "#         print(len(population))\n",
    "    \n",
    "#     costs = [(cost(route), route) for route in population]\n",
    "#     min_cost = min(costs)\n",
    "    \n",
    "    \n",
    "#     if offspring_cost < min_cost:\n",
    "#         index = population.index(min_cost[1])\n",
    "#         population[index] = offspring"
   ]
  },
  {
   "cell_type": "code",
   "execution_count": 449,
   "metadata": {},
   "outputs": [
    {
     "data": {
      "text/plain": [
       "[6, 2, 5, 4, 3, 1, 8, 9, 7]"
      ]
     },
     "execution_count": 449,
     "metadata": {},
     "output_type": "execute_result"
    }
   ],
   "source": [
    "parent1 = [1, 2, 3, 4, 5, 6, 7, 8, 9]\n",
    "parent2 = [4, 6, 1, 8, 2, 5, 3, 9, 7]\n",
    "#parent2 = ['A', 'B', 'C', 'D', 'E', 'F', 'G', 'H', 'I']\n",
    "CHILD = inver_over(parent1, parent2)\n",
    "CHILD"
   ]
  }
 ],
 "metadata": {
  "kernelspec": {
   "display_name": "VENV",
   "language": "python",
   "name": "python3"
  },
  "language_info": {
   "codemirror_mode": {
    "name": "ipython",
    "version": 3
   },
   "file_extension": ".py",
   "mimetype": "text/x-python",
   "name": "python",
   "nbconvert_exporter": "python",
   "pygments_lexer": "ipython3",
   "version": "3.12.7"
  }
 },
 "nbformat": 4,
 "nbformat_minor": 2
}
