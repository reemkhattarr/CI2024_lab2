{
 "cells": [
  {
   "cell_type": "code",
   "execution_count": 135,
   "metadata": {},
   "outputs": [],
   "source": [
    "import logging\n",
    "from itertools import combinations\n",
    "import pandas as pd\n",
    "import numpy as np\n",
    "from geopy.distance import geodesic\n",
    "import networkx as nx\n",
    "import random\n",
    "from tqdm.auto import tqdm\n",
    "from matplotlib import pyplot as plt\n",
    "from itertools import accumulate\n",
    "from icecream import ic\n",
    "\n",
    "logging.basicConfig(level=logging.DEBUG)"
   ]
  },
  {
   "cell_type": "code",
   "execution_count": 136,
   "metadata": {},
   "outputs": [
    {
     "data": {
      "text/html": [
       "<div>\n",
       "<style scoped>\n",
       "    .dataframe tbody tr th:only-of-type {\n",
       "        vertical-align: middle;\n",
       "    }\n",
       "\n",
       "    .dataframe tbody tr th {\n",
       "        vertical-align: top;\n",
       "    }\n",
       "\n",
       "    .dataframe thead th {\n",
       "        text-align: right;\n",
       "    }\n",
       "</style>\n",
       "<table border=\"1\" class=\"dataframe\">\n",
       "  <thead>\n",
       "    <tr style=\"text-align: right;\">\n",
       "      <th></th>\n",
       "      <th>name</th>\n",
       "      <th>lat</th>\n",
       "      <th>lon</th>\n",
       "    </tr>\n",
       "  </thead>\n",
       "  <tbody>\n",
       "    <tr>\n",
       "      <th>0</th>\n",
       "      <td>Ancona</td>\n",
       "      <td>43.60</td>\n",
       "      <td>13.50</td>\n",
       "    </tr>\n",
       "    <tr>\n",
       "      <th>1</th>\n",
       "      <td>Andria</td>\n",
       "      <td>41.23</td>\n",
       "      <td>16.29</td>\n",
       "    </tr>\n",
       "    <tr>\n",
       "      <th>2</th>\n",
       "      <td>Bari</td>\n",
       "      <td>41.12</td>\n",
       "      <td>16.87</td>\n",
       "    </tr>\n",
       "    <tr>\n",
       "      <th>3</th>\n",
       "      <td>Bergamo</td>\n",
       "      <td>45.70</td>\n",
       "      <td>9.67</td>\n",
       "    </tr>\n",
       "    <tr>\n",
       "      <th>4</th>\n",
       "      <td>Bologna</td>\n",
       "      <td>44.50</td>\n",
       "      <td>11.34</td>\n",
       "    </tr>\n",
       "  </tbody>\n",
       "</table>\n",
       "</div>"
      ],
      "text/plain": [
       "      name    lat    lon\n",
       "0   Ancona  43.60  13.50\n",
       "1   Andria  41.23  16.29\n",
       "2     Bari  41.12  16.87\n",
       "3  Bergamo  45.70   9.67\n",
       "4  Bologna  44.50  11.34"
      ]
     },
     "execution_count": 136,
     "metadata": {},
     "output_type": "execute_result"
    }
   ],
   "source": [
    "CITIES = pd.read_csv('cities/italy.csv', header=None, names=['name', 'lat', 'lon'])\n",
    "DIST_MATRIX = np.zeros((len(CITIES), len(CITIES)))\n",
    "for c1, c2 in combinations(CITIES.itertuples(), 2):\n",
    "    DIST_MATRIX[c1.Index, c2.Index] = DIST_MATRIX[c2.Index, c1.Index] = geodesic(\n",
    "        (c1.lat, c1.lon), (c2.lat, c2.lon)\n",
    "    ).km\n",
    "CITIES.head()"
   ]
  },
  {
   "cell_type": "code",
   "execution_count": 137,
   "metadata": {},
   "outputs": [],
   "source": [
    "#cities : list of city names\n",
    "#city_indices : list of (city: index)\n",
    "cities = CITIES['name'].values.tolist()\n",
    "city_indices = {city: index for index, city in enumerate(cities)}\n",
    "#city_indices['Bari']"
   ]
  },
  {
   "cell_type": "code",
   "execution_count": 138,
   "metadata": {},
   "outputs": [],
   "source": [
    "#returns for a route the cost \n",
    "def cost(route):\n",
    "    route.append(route[0])\n",
    "    #assert set(route) == set(range(len(CITIES)))\n",
    "    cost = 0\n",
    "    for c1, c2 in zip(route, route[1:]):\n",
    "        cost += DIST_MATRIX[city_indices[c1], city_indices[c2]]\n",
    "        #print(city_indices[c1], c1, city_indices[c2], c2, DIST_MATRIX[city_indices[c1], city_indices[c2]])\n",
    "    route.pop()\n",
    "    return cost\n",
    "\n",
    "def fitness(route):\n",
    "    return -cost(route)\n",
    "\n",
    "  "
   ]
  },
  {
   "cell_type": "code",
   "execution_count": 139,
   "metadata": {},
   "outputs": [],
   "source": [
    "def greedy_route():\n",
    "    current_city = random.choice(cities)\n",
    "    route = [current_city]\n",
    "    not_visited = set(cities) - {current_city}\n",
    "    \n",
    "    while not_visited:\n",
    "        closest = min(not_visited, key=lambda city: DIST_MATRIX[city_indices[current_city], city_indices[city]])\n",
    "        route.append(closest)\n",
    "        not_visited.remove(closest)\n",
    "        current_city = closest\n",
    "        \n",
    "    return route\n",
    "\n",
    "def initial_population(size):\n",
    "    population = [greedy_route() for i in range(size)]\n",
    "    return population\n"
   ]
  },
  {
   "cell_type": "code",
   "execution_count": 140,
   "metadata": {},
   "outputs": [],
   "source": [
    "#returns a random population of routes, leads to a worse result\n",
    "def initial_population2(size):\n",
    "    population = set()\n",
    "    while len(population) < size:\n",
    "        route = tuple(random.sample(CITIES['name'].values.tolist(), len(CITIES)))\n",
    "        population.add(route)\n",
    "\n",
    "    # Convert each route back to a list\n",
    "    return [list(route) for route in population]"
   ]
  },
  {
   "cell_type": "code",
   "execution_count": 141,
   "metadata": {},
   "outputs": [
    {
     "name": "stdout",
     "output_type": "stream",
     "text": [
      "[['Andria', 'Bari', 'Taranto', 'Foggia', 'Salerno', 'Naples', 'Giugliano in Campania', 'Latina', 'Rome', 'Terni', 'Perugia', 'Ancona', 'Rimini', 'Forlì', 'Ravenna', 'Ferrara', 'Bologna', 'Modena', \"Reggio nell'Emilia\", 'Parma', 'Piacenza', 'Milan', 'Monza', 'Bergamo', 'Brescia', 'Verona', 'Vicenza', 'Padua', 'Venice', 'Trieste', 'Bolzano', 'Trento', 'Novara', 'Turin', 'Genoa', 'Leghorn', 'Prato', 'Florence', 'Pescara', 'Palermo', 'Catania', 'Syracuse', 'Reggio di Calabria', 'Messina', 'Cagliari', 'Sassari'], ['Brescia', 'Bergamo', 'Monza', 'Milan', 'Novara', 'Turin', 'Genoa', 'Piacenza', 'Parma', \"Reggio nell'Emilia\", 'Modena', 'Bologna', 'Ferrara', 'Padua', 'Vicenza', 'Verona', 'Trento', 'Bolzano', 'Venice', 'Ravenna', 'Forlì', 'Rimini', 'Ancona', 'Perugia', 'Terni', 'Rome', 'Latina', 'Giugliano in Campania', 'Naples', 'Salerno', 'Foggia', 'Andria', 'Bari', 'Taranto', 'Messina', 'Reggio di Calabria', 'Catania', 'Syracuse', 'Palermo', 'Cagliari', 'Sassari', 'Leghorn', 'Prato', 'Florence', 'Pescara', 'Trieste'], ['Bari', 'Andria', 'Foggia', 'Salerno', 'Naples', 'Giugliano in Campania', 'Latina', 'Rome', 'Terni', 'Perugia', 'Ancona', 'Rimini', 'Forlì', 'Ravenna', 'Ferrara', 'Bologna', 'Modena', \"Reggio nell'Emilia\", 'Parma', 'Piacenza', 'Milan', 'Monza', 'Bergamo', 'Brescia', 'Verona', 'Vicenza', 'Padua', 'Venice', 'Trieste', 'Bolzano', 'Trento', 'Novara', 'Turin', 'Genoa', 'Leghorn', 'Prato', 'Florence', 'Pescara', 'Taranto', 'Messina', 'Reggio di Calabria', 'Catania', 'Syracuse', 'Palermo', 'Cagliari', 'Sassari'], ['Cagliari', 'Sassari', 'Leghorn', 'Prato', 'Florence', 'Forlì', 'Ravenna', 'Rimini', 'Ancona', 'Perugia', 'Terni', 'Rome', 'Latina', 'Giugliano in Campania', 'Naples', 'Salerno', 'Foggia', 'Andria', 'Bari', 'Taranto', 'Messina', 'Reggio di Calabria', 'Catania', 'Syracuse', 'Palermo', 'Pescara', 'Bologna', 'Modena', \"Reggio nell'Emilia\", 'Parma', 'Piacenza', 'Milan', 'Monza', 'Bergamo', 'Brescia', 'Verona', 'Vicenza', 'Padua', 'Venice', 'Ferrara', 'Trento', 'Bolzano', 'Trieste', 'Novara', 'Turin', 'Genoa'], ['Taranto', 'Bari', 'Andria', 'Foggia', 'Salerno', 'Naples', 'Giugliano in Campania', 'Latina', 'Rome', 'Terni', 'Perugia', 'Ancona', 'Rimini', 'Forlì', 'Ravenna', 'Ferrara', 'Bologna', 'Modena', \"Reggio nell'Emilia\", 'Parma', 'Piacenza', 'Milan', 'Monza', 'Bergamo', 'Brescia', 'Verona', 'Vicenza', 'Padua', 'Venice', 'Trieste', 'Bolzano', 'Trento', 'Novara', 'Turin', 'Genoa', 'Leghorn', 'Prato', 'Florence', 'Pescara', 'Palermo', 'Catania', 'Syracuse', 'Reggio di Calabria', 'Messina', 'Cagliari', 'Sassari'], ['Sassari', 'Cagliari', 'Palermo', 'Catania', 'Syracuse', 'Reggio di Calabria', 'Messina', 'Salerno', 'Naples', 'Giugliano in Campania', 'Latina', 'Rome', 'Terni', 'Perugia', 'Ancona', 'Rimini', 'Forlì', 'Ravenna', 'Ferrara', 'Bologna', 'Modena', \"Reggio nell'Emilia\", 'Parma', 'Piacenza', 'Milan', 'Monza', 'Bergamo', 'Brescia', 'Verona', 'Vicenza', 'Padua', 'Venice', 'Trieste', 'Bolzano', 'Trento', 'Novara', 'Turin', 'Genoa', 'Leghorn', 'Prato', 'Florence', 'Pescara', 'Foggia', 'Andria', 'Bari', 'Taranto'], ['Bolzano', 'Trento', 'Vicenza', 'Padua', 'Venice', 'Ferrara', 'Bologna', 'Modena', \"Reggio nell'Emilia\", 'Parma', 'Piacenza', 'Milan', 'Monza', 'Bergamo', 'Brescia', 'Verona', 'Ravenna', 'Forlì', 'Rimini', 'Ancona', 'Perugia', 'Terni', 'Rome', 'Latina', 'Giugliano in Campania', 'Naples', 'Salerno', 'Foggia', 'Andria', 'Bari', 'Taranto', 'Messina', 'Reggio di Calabria', 'Catania', 'Syracuse', 'Palermo', 'Cagliari', 'Sassari', 'Leghorn', 'Prato', 'Florence', 'Genoa', 'Novara', 'Turin', 'Trieste', 'Pescara'], ['Ravenna', 'Forlì', 'Rimini', 'Ancona', 'Perugia', 'Terni', 'Rome', 'Latina', 'Giugliano in Campania', 'Naples', 'Salerno', 'Foggia', 'Andria', 'Bari', 'Taranto', 'Messina', 'Reggio di Calabria', 'Catania', 'Syracuse', 'Palermo', 'Cagliari', 'Sassari', 'Leghorn', 'Prato', 'Florence', 'Bologna', 'Modena', \"Reggio nell'Emilia\", 'Parma', 'Piacenza', 'Milan', 'Monza', 'Bergamo', 'Brescia', 'Verona', 'Vicenza', 'Padua', 'Venice', 'Ferrara', 'Trento', 'Bolzano', 'Trieste', 'Pescara', 'Genoa', 'Novara', 'Turin'], ['Genoa', 'Piacenza', 'Parma', \"Reggio nell'Emilia\", 'Modena', 'Bologna', 'Ferrara', 'Padua', 'Vicenza', 'Verona', 'Brescia', 'Bergamo', 'Monza', 'Milan', 'Novara', 'Turin', 'Leghorn', 'Prato', 'Florence', 'Forlì', 'Ravenna', 'Rimini', 'Ancona', 'Perugia', 'Terni', 'Rome', 'Latina', 'Giugliano in Campania', 'Naples', 'Salerno', 'Foggia', 'Andria', 'Bari', 'Taranto', 'Messina', 'Reggio di Calabria', 'Catania', 'Syracuse', 'Palermo', 'Cagliari', 'Sassari', 'Pescara', 'Trieste', 'Venice', 'Trento', 'Bolzano'], [\"Reggio nell'Emilia\", 'Modena', 'Bologna', 'Ferrara', 'Padua', 'Vicenza', 'Verona', 'Brescia', 'Bergamo', 'Monza', 'Milan', 'Novara', 'Turin', 'Genoa', 'Piacenza', 'Parma', 'Prato', 'Florence', 'Leghorn', 'Forlì', 'Ravenna', 'Rimini', 'Ancona', 'Perugia', 'Terni', 'Rome', 'Latina', 'Giugliano in Campania', 'Naples', 'Salerno', 'Foggia', 'Andria', 'Bari', 'Taranto', 'Messina', 'Reggio di Calabria', 'Catania', 'Syracuse', 'Palermo', 'Cagliari', 'Sassari', 'Pescara', 'Trieste', 'Venice', 'Trento', 'Bolzano']]\n",
      "-5193.687519515646\n"
     ]
    }
   ],
   "source": [
    "pop = initial_population(10)\n",
    "print(pop)\n",
    "\n",
    "#for route in pop:\n",
    "    #print(fitness(route))\n",
    "    \n",
    "print(fitness(pop[0]))"
   ]
  },
  {
   "cell_type": "code",
   "execution_count": 142,
   "metadata": {},
   "outputs": [
    {
     "name": "stdout",
     "output_type": "stream",
     "text": [
      "[['Terni', 'Perugia', 'Ancona', 'Rimini', 'Forlì', 'Ravenna', 'Ferrara', 'Bologna', 'Modena', \"Reggio nell'Emilia\", 'Parma', 'Piacenza', 'Milan', 'Monza', 'Bergamo', 'Brescia', 'Verona', 'Vicenza', 'Padua', 'Venice', 'Trieste', 'Bolzano', 'Trento', 'Novara', 'Turin', 'Genoa', 'Leghorn', 'Prato', 'Florence', 'Rome', 'Latina', 'Giugliano in Campania', 'Naples', 'Salerno', 'Foggia', 'Andria', 'Bari', 'Taranto', 'Messina', 'Reggio di Calabria', 'Catania', 'Syracuse', 'Palermo', 'Cagliari', 'Sassari', 'Pescara'], [\"Reggio nell'Emilia\", 'Modena', 'Bologna', 'Ferrara', 'Padua', 'Vicenza', 'Verona', 'Brescia', 'Bergamo', 'Monza', 'Milan', 'Novara', 'Turin', 'Genoa', 'Piacenza', 'Parma', 'Prato', 'Florence', 'Leghorn', 'Forlì', 'Ravenna', 'Rimini', 'Ancona', 'Perugia', 'Terni', 'Rome', 'Latina', 'Giugliano in Campania', 'Naples', 'Salerno', 'Foggia', 'Andria', 'Bari', 'Taranto', 'Messina', 'Reggio di Calabria', 'Catania', 'Syracuse', 'Palermo', 'Cagliari', 'Sassari', 'Pescara', 'Trieste', 'Venice', 'Trento', 'Bolzano'], ['Catania', 'Syracuse', 'Reggio di Calabria', 'Messina', 'Palermo', 'Salerno', 'Naples', 'Giugliano in Campania', 'Latina', 'Rome', 'Terni', 'Perugia', 'Ancona', 'Rimini', 'Forlì', 'Ravenna', 'Ferrara', 'Bologna', 'Modena', \"Reggio nell'Emilia\", 'Parma', 'Piacenza', 'Milan', 'Monza', 'Bergamo', 'Brescia', 'Verona', 'Vicenza', 'Padua', 'Venice', 'Trieste', 'Bolzano', 'Trento', 'Novara', 'Turin', 'Genoa', 'Leghorn', 'Prato', 'Florence', 'Pescara', 'Foggia', 'Andria', 'Bari', 'Taranto', 'Cagliari', 'Sassari'], ['Syracuse', 'Catania', 'Reggio di Calabria', 'Messina', 'Palermo', 'Salerno', 'Naples', 'Giugliano in Campania', 'Latina', 'Rome', 'Terni', 'Perugia', 'Ancona', 'Rimini', 'Forlì', 'Ravenna', 'Ferrara', 'Bologna', 'Modena', \"Reggio nell'Emilia\", 'Parma', 'Piacenza', 'Milan', 'Monza', 'Bergamo', 'Brescia', 'Verona', 'Vicenza', 'Padua', 'Venice', 'Trieste', 'Bolzano', 'Trento', 'Novara', 'Turin', 'Genoa', 'Leghorn', 'Prato', 'Florence', 'Pescara', 'Foggia', 'Andria', 'Bari', 'Taranto', 'Cagliari', 'Sassari'], ['Cagliari', 'Sassari', 'Leghorn', 'Prato', 'Florence', 'Forlì', 'Ravenna', 'Rimini', 'Ancona', 'Perugia', 'Terni', 'Rome', 'Latina', 'Giugliano in Campania', 'Naples', 'Salerno', 'Foggia', 'Andria', 'Bari', 'Taranto', 'Messina', 'Reggio di Calabria', 'Catania', 'Syracuse', 'Palermo', 'Pescara', 'Bologna', 'Modena', \"Reggio nell'Emilia\", 'Parma', 'Piacenza', 'Milan', 'Monza', 'Bergamo', 'Brescia', 'Verona', 'Vicenza', 'Padua', 'Venice', 'Ferrara', 'Trento', 'Bolzano', 'Trieste', 'Novara', 'Turin', 'Genoa'], [\"Reggio nell'Emilia\", 'Modena', 'Bologna', 'Ferrara', 'Padua', 'Vicenza', 'Verona', 'Brescia', 'Bergamo', 'Monza', 'Milan', 'Novara', 'Turin', 'Genoa', 'Piacenza', 'Parma', 'Prato', 'Florence', 'Leghorn', 'Forlì', 'Ravenna', 'Rimini', 'Ancona', 'Perugia', 'Terni', 'Rome', 'Latina', 'Giugliano in Campania', 'Naples', 'Salerno', 'Foggia', 'Andria', 'Bari', 'Taranto', 'Messina', 'Reggio di Calabria', 'Catania', 'Syracuse', 'Palermo', 'Cagliari', 'Sassari', 'Pescara', 'Trieste', 'Venice', 'Trento', 'Bolzano'], ['Syracuse', 'Catania', 'Reggio di Calabria', 'Messina', 'Palermo', 'Salerno', 'Naples', 'Giugliano in Campania', 'Latina', 'Rome', 'Terni', 'Perugia', 'Ancona', 'Rimini', 'Forlì', 'Ravenna', 'Ferrara', 'Bologna', 'Modena', \"Reggio nell'Emilia\", 'Parma', 'Piacenza', 'Milan', 'Monza', 'Bergamo', 'Brescia', 'Verona', 'Vicenza', 'Padua', 'Venice', 'Trieste', 'Bolzano', 'Trento', 'Novara', 'Turin', 'Genoa', 'Leghorn', 'Prato', 'Florence', 'Pescara', 'Foggia', 'Andria', 'Bari', 'Taranto', 'Cagliari', 'Sassari'], ['Bergamo', 'Monza', 'Milan', 'Novara', 'Turin', 'Genoa', 'Piacenza', 'Parma', \"Reggio nell'Emilia\", 'Modena', 'Bologna', 'Ferrara', 'Padua', 'Vicenza', 'Verona', 'Brescia', 'Trento', 'Bolzano', 'Venice', 'Ravenna', 'Forlì', 'Rimini', 'Ancona', 'Perugia', 'Terni', 'Rome', 'Latina', 'Giugliano in Campania', 'Naples', 'Salerno', 'Foggia', 'Andria', 'Bari', 'Taranto', 'Messina', 'Reggio di Calabria', 'Catania', 'Syracuse', 'Palermo', 'Cagliari', 'Sassari', 'Leghorn', 'Prato', 'Florence', 'Pescara', 'Trieste'], ['Reggio di Calabria', 'Messina', 'Catania', 'Syracuse', 'Palermo', 'Salerno', 'Naples', 'Giugliano in Campania', 'Latina', 'Rome', 'Terni', 'Perugia', 'Ancona', 'Rimini', 'Forlì', 'Ravenna', 'Ferrara', 'Bologna', 'Modena', \"Reggio nell'Emilia\", 'Parma', 'Piacenza', 'Milan', 'Monza', 'Bergamo', 'Brescia', 'Verona', 'Vicenza', 'Padua', 'Venice', 'Trieste', 'Bolzano', 'Trento', 'Novara', 'Turin', 'Genoa', 'Leghorn', 'Prato', 'Florence', 'Pescara', 'Foggia', 'Andria', 'Bari', 'Taranto', 'Cagliari', 'Sassari'], ['Turin', 'Novara', 'Milan', 'Monza', 'Bergamo', 'Brescia', 'Verona', 'Vicenza', 'Padua', 'Venice', 'Ferrara', 'Bologna', 'Modena', \"Reggio nell'Emilia\", 'Parma', 'Piacenza', 'Genoa', 'Leghorn', 'Prato', 'Florence', 'Forlì', 'Ravenna', 'Rimini', 'Ancona', 'Perugia', 'Terni', 'Rome', 'Latina', 'Giugliano in Campania', 'Naples', 'Salerno', 'Foggia', 'Andria', 'Bari', 'Taranto', 'Messina', 'Reggio di Calabria', 'Catania', 'Syracuse', 'Palermo', 'Cagliari', 'Sassari', 'Pescara', 'Trieste', 'Bolzano', 'Trento']]\n"
     ]
    }
   ],
   "source": [
    "population_size = 5\n",
    "population = initial_population(10)\n",
    "print(population)\n",
    "\n",
    "# route_cost = []\n",
    "# for i in range(len(population)):\n",
    "#     route_cost.append(cost(population[i]))\n",
    "\n",
    "# print(min(route_cost))\n"
   ]
  },
  {
   "cell_type": "code",
   "execution_count": 143,
   "metadata": {},
   "outputs": [],
   "source": [
    "def selected_parents(population):\n",
    "    \n",
    "    routes_fitnesses = [(route, fitness(route)) for route in population]\n",
    "    # print(\"\\n fitnesses\")\n",
    "    # print(routes_fitnesses)\n",
    "    #print(\"max fitness:\", max(route_fitnesses), \"- index:\", route_fitnesses.index(max(route_fitnesses)))\n",
    "\n",
    "    #max fitness -> rank 1, 2nd best -> rank 2... worst fitness rank 0\n",
    "    # sorted_indices = np.argsort(route_fitnesses)[::-1] \n",
    "    # print(\"\\n sorted indices\", sorted_indices)\n",
    "    #sorted_routes = [population[index] for index in sorted_indices]\n",
    "    #print(\"\\n sorted routes\", sorted_routes)\n",
    "    \n",
    "    sorted_routes_fitnesses = sorted(routes_fitnesses, key=lambda x: x[1])\n",
    "    #print(sorted_routes_fitnesses)\n",
    "    sorted_routes = [elt[0] for elt in sorted_routes_fitnesses]\n",
    "    #print(sorted_routes)\n",
    "        \n",
    "    ranks = np.arange(1, len(population)+1)\n",
    "    #print(\"\\n ranks\", ranks)\n",
    "    total_ranks = sum(ranks)\n",
    "    \n",
    "    probabilities = ranks / total_ranks\n",
    "    #print(\"/n probabilities\", probabilities)\n",
    "    \n",
    "    parents = []\n",
    "    while parents == [] or parents[0] == parents[1]:    \n",
    "        parents = random.choices(sorted_routes, weights=probabilities, k=2)\n",
    "    \n",
    "    return parents[0], parents[1]"
   ]
  },
  {
   "cell_type": "code",
   "execution_count": 144,
   "metadata": {},
   "outputs": [],
   "source": [
    "#inver over crossover\n",
    "def inver_over(parent1, parent2):\n",
    "    \n",
    "    point1, point2 = 0, 0\n",
    "    while point1 == point2:\n",
    "        point1 = random.randint(0, len(parent1)-1)\n",
    "        point2 = random.randint(0, len(parent1)-1)\n",
    "    #print(point1, point2)\n",
    "    \n",
    "    if point1 > point2:\n",
    "        point1, point2 = point2, point1\n",
    "        \n",
    "    inverted_seg = parent1[point1+1:point2+1][::-1]\n",
    "    #print(inverted_seg)\n",
    "    offspring = [None] * len(parent1)\n",
    "    \n",
    "    offspring[point1+1:point2+1] = inverted_seg\n",
    "    offspring[point1] = parent1[point1]\n",
    "    #print(\"offspring\", offspring)\n",
    "    parent2_index = 0\n",
    "    for i in range(len(parent2)):\n",
    "        if offspring[i] is None:\n",
    "            while parent2[parent2_index] in offspring:\n",
    "                #print(parent2[parent2_index], parent2_index)\n",
    "                parent2_index += 1\n",
    "            offspring[i] = parent2[parent2_index]\n",
    "            #print(\"offspring\", offspring)\n",
    "            parent2_index += 1\n",
    "        \n",
    "    \n",
    "    return offspring"
   ]
  },
  {
   "cell_type": "code",
   "execution_count": 145,
   "metadata": {},
   "outputs": [],
   "source": [
    "#insertion mutation\n",
    "def insertion_mutation(route):\n",
    "    new_route = route.copy()\n",
    "    \n",
    "    point1, point2 = 0, 0\n",
    "    while point1 == point2:\n",
    "        point1 = random.randint(0, len(new_route)-1)\n",
    "        point2 = random.randint(0, len(new_route)-1)\n",
    "    #print(point1, point2)\n",
    "    \n",
    "    if point1 < point2:\n",
    "        point1, point2 = point2, point1\n",
    "        \n",
    "    #print(route)\n",
    "    new_route.insert(point2, new_route.pop(point1))\n",
    "    #print(route)\n",
    "    return new_route"
   ]
  },
  {
   "cell_type": "code",
   "execution_count": 146,
   "metadata": {},
   "outputs": [
    {
     "name": "stdout",
     "output_type": "stream",
     "text": [
      "-5193.687519515646\n",
      "-5287.215737296759\n"
     ]
    }
   ],
   "source": [
    "print(fitness(pop[0]))\n",
    "mutated = insertion_mutation(pop[0])\n",
    "print(fitness(mutated))"
   ]
  },
  {
   "cell_type": "code",
   "execution_count": 147,
   "metadata": {},
   "outputs": [],
   "source": [
    "def simulated_annealing(offspring):\n",
    "    T = 10\n",
    "    cooling_rate = 0.9\n",
    "    current_offspring = offspring\n",
    "    current_offspring_fitness = fitness(current_offspring)\n",
    "    while T > 0.1:\n",
    "        current_offspring_fitness = fitness(current_offspring)\n",
    "        #print(\"current offspring fitness\", current_offspring_fitness, current_offspring)\n",
    "        new_offspring = insertion_mutation(current_offspring)\n",
    "        new_offspring_fitness = fitness(new_offspring)\n",
    "        #print(\"new offspring fitness\", new_offspring_fitness, new_offspring)\n",
    "        delta = new_offspring_fitness - current_offspring_fitness\n",
    "        #print(\"delta\", delta)\n",
    "        if delta > 0:\n",
    "            current_offspring = new_offspring\n",
    "            #print(fitness(new_offspring), fitness(current_offspring))\n",
    "        else:\n",
    "            p = np.exp(delta / T)\n",
    "            if random.random() < p:\n",
    "                offspring = new_offspring\n",
    "        T *= cooling_rate\n",
    "        \n",
    "    return current_offspring    "
   ]
  },
  {
   "cell_type": "code",
   "execution_count": 148,
   "metadata": {},
   "outputs": [
    {
     "name": "stdout",
     "output_type": "stream",
     "text": [
      "-5193.687519515646\n",
      "-5193.687519515646\n"
     ]
    }
   ],
   "source": [
    "print(fitness(pop[0]))\n",
    "mutated = simulated_annealing(pop[0])\n",
    "print(fitness(mutated))"
   ]
  },
  {
   "cell_type": "code",
   "execution_count": 149,
   "metadata": {},
   "outputs": [],
   "source": [
    "route = [1, 2, 3, 4, 5, 6, 7, 8]\n",
    "mutated_route = insertion_mutation(route)"
   ]
  },
  {
   "cell_type": "code",
   "execution_count": 150,
   "metadata": {},
   "outputs": [
    {
     "name": "stdout",
     "output_type": "stream",
     "text": [
      "-4436.03176952516\n"
     ]
    }
   ],
   "source": [
    "optimal_route = None\n",
    "optimal_distance = float('inf')\n",
    "\n",
    "population = initial_population(1000)\n",
    "\n",
    "for step in range(1000):\n",
    "    #print(f\"\\nstep {step+1}\")\n",
    "    \n",
    "    parent1, parent2 = selected_parents(population)\n",
    "    \n",
    "    offspring = inver_over(parent1, parent2)\n",
    "    #offspring_cost = cost(offspring)\n",
    "    \n",
    "    mutated_offspring = simulated_annealing(offspring)\n",
    "    offspring_fitness = fitness(mutated_offspring)\n",
    "\n",
    "    #costs = [(cost(route), route) for route in population]\n",
    "    fitnesses = [(fitness(route), route) for route in population]\n",
    "    #min_cost_route = min(costs, key=lambda x:x[0])\n",
    "    max_fitness_route = max(fitnesses, key=lambda x:x[0])\n",
    "    #min_cost = min_cost_route[0]\n",
    "    max_fitness = max_fitness_route[0]\n",
    "    \n",
    "    if offspring_fitness > max_fitness:\n",
    "        index = population.index(max_fitness_route[1])\n",
    "        population[index] = mutated_offspring\n",
    "        \n",
    "fitnesses = [fitness(route) for route in population]\n",
    "max_fitness = max(fitnesses)\n",
    "print(max_fitness)"
   ]
  },
  {
   "cell_type": "code",
   "execution_count": 151,
   "metadata": {},
   "outputs": [],
   "source": [
    "# optimal_route = None\n",
    "# optimal_distance = float('inf')\n",
    "\n",
    "# population = initial_population(20)\n",
    "\n",
    "# for step in range(100):\n",
    "#     print(f\"\\nstep {step+1}\")\n",
    "\n",
    "#     for i in range(10):\n",
    "#         parent1, parent2 = selected_parents(population)\n",
    "#         print(\"parent1\", parent1)\n",
    "#         print(\"parent2\", parent2)\n",
    "#         offspring = inver_over(parent1, parent2)\n",
    "#         population.append(offspring)\n",
    "#         print(len(population))\n",
    "\n",
    "#     costs = [(cost(route), route) for route in population]\n",
    "#     min_cost = min(costs)\n",
    "\n",
    "\n",
    "#     if offspring_cost < min_cost:\n",
    "#         index = population.index(min_cost[1])\n",
    "#         population[index] = offspring"
   ]
  },
  {
   "cell_type": "code",
   "execution_count": 152,
   "metadata": {},
   "outputs": [
    {
     "data": {
      "text/plain": [
       "[1, 8, 2, 4, 6, 5, 3, 9, 7]"
      ]
     },
     "execution_count": 152,
     "metadata": {},
     "output_type": "execute_result"
    }
   ],
   "source": [
    "parent1 = [1, 2, 3, 4, 5, 6, 7, 8, 9]\n",
    "parent2 = [4, 6, 1, 8, 2, 5, 3, 9, 7]\n",
    "#parent2 = ['A', 'B', 'C', 'D', 'E', 'F', 'G', 'H', 'I']\n",
    "CHILD = inver_over(parent1, parent2)\n",
    "CHILD"
   ]
  }
 ],
 "metadata": {
  "kernelspec": {
   "display_name": "VENV",
   "language": "python",
   "name": "python3"
  },
  "language_info": {
   "codemirror_mode": {
    "name": "ipython",
    "version": 3
   },
   "file_extension": ".py",
   "mimetype": "text/x-python",
   "name": "python",
   "nbconvert_exporter": "python",
   "pygments_lexer": "ipython3",
   "version": "3.12.7"
  }
 },
 "nbformat": 4,
 "nbformat_minor": 2
}
